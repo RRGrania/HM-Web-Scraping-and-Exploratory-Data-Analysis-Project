{
 "cells": [
  {
   "cell_type": "markdown",
   "metadata": {},
   "source": [
    "#### Data Exploring"
   ]
  },
  {
   "cell_type": "code",
   "execution_count": 413,
   "metadata": {},
   "outputs": [],
   "source": [
    "import pandas as pd"
   ]
  },
  {
   "cell_type": "code",
   "execution_count": 506,
   "metadata": {},
   "outputs": [],
   "source": [
    "combined_df = pd.read_csv(\"Combined_Data.csv\")"
   ]
  },
  {
   "cell_type": "code",
   "execution_count": 507,
   "metadata": {},
   "outputs": [
    {
     "data": {
      "text/plain": [
       "(4535, 13)"
      ]
     },
     "execution_count": 507,
     "metadata": {},
     "output_type": "execute_result"
    }
   ],
   "source": [
    "combined_df.shape"
   ]
  },
  {
   "cell_type": "code",
   "execution_count": 508,
   "metadata": {},
   "outputs": [
    {
     "data": {
      "text/html": [
       "<div>\n",
       "<style scoped>\n",
       "    .dataframe tbody tr th:only-of-type {\n",
       "        vertical-align: middle;\n",
       "    }\n",
       "\n",
       "    .dataframe tbody tr th {\n",
       "        vertical-align: top;\n",
       "    }\n",
       "\n",
       "    .dataframe thead th {\n",
       "        text-align: right;\n",
       "    }\n",
       "</style>\n",
       "<table border=\"1\" class=\"dataframe\">\n",
       "  <thead>\n",
       "    <tr style=\"text-align: right;\">\n",
       "      <th></th>\n",
       "      <th>item title</th>\n",
       "      <th>original price</th>\n",
       "      <th>price on sale</th>\n",
       "      <th>rating</th>\n",
       "      <th>color options</th>\n",
       "      <th>size options</th>\n",
       "      <th>description</th>\n",
       "      <th>Age Group</th>\n",
       "      <th>Garment Length</th>\n",
       "      <th>Presentation Product Type</th>\n",
       "      <th>Sleeve Length</th>\n",
       "      <th>Composition</th>\n",
       "      <th>category</th>\n",
       "    </tr>\n",
       "  </thead>\n",
       "  <tbody>\n",
       "    <tr>\n",
       "      <th>0</th>\n",
       "      <td>UPF 50 Sun protection set</td>\n",
       "      <td>NaN</td>\n",
       "      <td>EGP 1,999.00</td>\n",
       "      <td>NaN</td>\n",
       "      <td>['Light blue/Striped', 'Cream/Fish', 'Cream/Fl...</td>\n",
       "      <td>['1.5-2Y', '3-4Y', '4-5Y']</td>\n",
       "      <td>Sun protection suit and matching sun protectio...</td>\n",
       "      <td>Baby</td>\n",
       "      <td>Short</td>\n",
       "      <td>Swimsuit</td>\n",
       "      <td>Long sleeve</td>\n",
       "      <td>[\"83.0% Polyester\", \"17.0% Elastane\"]</td>\n",
       "      <td>Baby Boy</td>\n",
       "    </tr>\n",
       "    <tr>\n",
       "      <th>1</th>\n",
       "      <td>Printed cotton T-shirt</td>\n",
       "      <td>NaN</td>\n",
       "      <td>EGP 449.00</td>\n",
       "      <td>NaN</td>\n",
       "      <td>[]</td>\n",
       "      <td>['6M', '9M', '12M', '18M', '2Y', '3Y', '4Y']</td>\n",
       "      <td>T-shirt in soft cotton jersey with print motif...</td>\n",
       "      <td>Baby</td>\n",
       "      <td>Regular length</td>\n",
       "      <td>T-shirt</td>\n",
       "      <td>Short sleeve</td>\n",
       "      <td>[\"100.0% Cotton\"]</td>\n",
       "      <td>Baby Boy</td>\n",
       "    </tr>\n",
       "    <tr>\n",
       "      <th>2</th>\n",
       "      <td>Printed cotton T-shirt</td>\n",
       "      <td>NaN</td>\n",
       "      <td>EGP 449.00</td>\n",
       "      <td>NaN</td>\n",
       "      <td>['Light blue/Striped', 'Yellow/California', 'T...</td>\n",
       "      <td>['18M', '2Y', '4Y']</td>\n",
       "      <td>T-shirt in soft cotton jersey with print motif...</td>\n",
       "      <td>Baby</td>\n",
       "      <td>Regular length</td>\n",
       "      <td>T-shirt</td>\n",
       "      <td>Short sleeve</td>\n",
       "      <td>[\"100.0% Cotton\"]</td>\n",
       "      <td>Baby Boy</td>\n",
       "    </tr>\n",
       "    <tr>\n",
       "      <th>3</th>\n",
       "      <td>Printed cotton T-shirt</td>\n",
       "      <td>NaN</td>\n",
       "      <td>EGP 449.00</td>\n",
       "      <td>NaN</td>\n",
       "      <td>['Light blue/Striped', 'Yellow/California', 'T...</td>\n",
       "      <td>['6M', '9M', '12M', '18M', '2Y', '3Y', '4Y']</td>\n",
       "      <td>T-shirt in soft cotton jersey with print motif...</td>\n",
       "      <td>Baby</td>\n",
       "      <td>Regular length</td>\n",
       "      <td>T-shirt</td>\n",
       "      <td>Short sleeve</td>\n",
       "      <td>[\"100.0% Cotton\"]</td>\n",
       "      <td>Baby Boy</td>\n",
       "    </tr>\n",
       "    <tr>\n",
       "      <th>4</th>\n",
       "      <td>Long-sleeved bodysuit</td>\n",
       "      <td>NaN</td>\n",
       "      <td>EGP 399.00</td>\n",
       "      <td>NaN</td>\n",
       "      <td>['White/Cherries', 'Light beige/Dogs', 'Light ...</td>\n",
       "      <td>['1.5-2Y', '12-18M', '4-6M', '6-9M', '9-12M']</td>\n",
       "      <td>Long-sleeved bodysuit in supersoft cotton jers...</td>\n",
       "      <td>Baby</td>\n",
       "      <td>NaN</td>\n",
       "      <td>Bodysuit</td>\n",
       "      <td>Long sleeve</td>\n",
       "      <td>[\"100.0% Cotton\"]</td>\n",
       "      <td>Baby Boy</td>\n",
       "    </tr>\n",
       "  </tbody>\n",
       "</table>\n",
       "</div>"
      ],
      "text/plain": [
       "                  item title  original price price on sale  rating  \\\n",
       "0  UPF 50 Sun protection set             NaN  EGP 1,999.00     NaN   \n",
       "1     Printed cotton T-shirt             NaN    EGP 449.00     NaN   \n",
       "2     Printed cotton T-shirt             NaN    EGP 449.00     NaN   \n",
       "3     Printed cotton T-shirt             NaN    EGP 449.00     NaN   \n",
       "4      Long-sleeved bodysuit             NaN    EGP 399.00     NaN   \n",
       "\n",
       "                                       color options  \\\n",
       "0  ['Light blue/Striped', 'Cream/Fish', 'Cream/Fl...   \n",
       "1                                                 []   \n",
       "2  ['Light blue/Striped', 'Yellow/California', 'T...   \n",
       "3  ['Light blue/Striped', 'Yellow/California', 'T...   \n",
       "4  ['White/Cherries', 'Light beige/Dogs', 'Light ...   \n",
       "\n",
       "                                    size options  \\\n",
       "0                     ['1.5-2Y', '3-4Y', '4-5Y']   \n",
       "1   ['6M', '9M', '12M', '18M', '2Y', '3Y', '4Y']   \n",
       "2                            ['18M', '2Y', '4Y']   \n",
       "3   ['6M', '9M', '12M', '18M', '2Y', '3Y', '4Y']   \n",
       "4  ['1.5-2Y', '12-18M', '4-6M', '6-9M', '9-12M']   \n",
       "\n",
       "                                         description Age Group  \\\n",
       "0  Sun protection suit and matching sun protectio...      Baby   \n",
       "1  T-shirt in soft cotton jersey with print motif...      Baby   \n",
       "2  T-shirt in soft cotton jersey with print motif...      Baby   \n",
       "3  T-shirt in soft cotton jersey with print motif...      Baby   \n",
       "4  Long-sleeved bodysuit in supersoft cotton jers...      Baby   \n",
       "\n",
       "   Garment Length Presentation Product Type Sleeve Length  \\\n",
       "0           Short                  Swimsuit   Long sleeve   \n",
       "1  Regular length                   T-shirt  Short sleeve   \n",
       "2  Regular length                   T-shirt  Short sleeve   \n",
       "3  Regular length                   T-shirt  Short sleeve   \n",
       "4             NaN                  Bodysuit   Long sleeve   \n",
       "\n",
       "                             Composition  category  \n",
       "0  [\"83.0% Polyester\", \"17.0% Elastane\"]  Baby Boy  \n",
       "1                      [\"100.0% Cotton\"]  Baby Boy  \n",
       "2                      [\"100.0% Cotton\"]  Baby Boy  \n",
       "3                      [\"100.0% Cotton\"]  Baby Boy  \n",
       "4                      [\"100.0% Cotton\"]  Baby Boy  "
      ]
     },
     "execution_count": 508,
     "metadata": {},
     "output_type": "execute_result"
    }
   ],
   "source": [
    "combined_df.head()"
   ]
  },
  {
   "cell_type": "code",
   "execution_count": 509,
   "metadata": {},
   "outputs": [
    {
     "data": {
      "text/html": [
       "<div>\n",
       "<style scoped>\n",
       "    .dataframe tbody tr th:only-of-type {\n",
       "        vertical-align: middle;\n",
       "    }\n",
       "\n",
       "    .dataframe tbody tr th {\n",
       "        vertical-align: top;\n",
       "    }\n",
       "\n",
       "    .dataframe thead th {\n",
       "        text-align: right;\n",
       "    }\n",
       "</style>\n",
       "<table border=\"1\" class=\"dataframe\">\n",
       "  <thead>\n",
       "    <tr style=\"text-align: right;\">\n",
       "      <th></th>\n",
       "      <th>item title</th>\n",
       "      <th>original price</th>\n",
       "      <th>price on sale</th>\n",
       "      <th>rating</th>\n",
       "      <th>color options</th>\n",
       "      <th>size options</th>\n",
       "      <th>description</th>\n",
       "      <th>Age Group</th>\n",
       "      <th>Garment Length</th>\n",
       "      <th>Presentation Product Type</th>\n",
       "      <th>Sleeve Length</th>\n",
       "      <th>Composition</th>\n",
       "      <th>category</th>\n",
       "    </tr>\n",
       "  </thead>\n",
       "  <tbody>\n",
       "    <tr>\n",
       "      <th>4530</th>\n",
       "      <td>Ribbed modal-blend T-shirt</td>\n",
       "      <td>NaN</td>\n",
       "      <td>EGP 749.00</td>\n",
       "      <td>NaN</td>\n",
       "      <td>['Dark brown', 'Black', 'White', 'Light khaki ...</td>\n",
       "      <td>['XS', 'M', 'L', 'XL']</td>\n",
       "      <td>Fitted T-shirt in soft, ribbed cotton and moda...</td>\n",
       "      <td>Adult</td>\n",
       "      <td>Regular length</td>\n",
       "      <td>T-shirt</td>\n",
       "      <td>Short sleeve</td>\n",
       "      <td>[\"50% Cotton\", \"50% Modal\"]</td>\n",
       "      <td>Women</td>\n",
       "    </tr>\n",
       "    <tr>\n",
       "      <th>4531</th>\n",
       "      <td>Knitted jumper</td>\n",
       "      <td>NaN</td>\n",
       "      <td>EGP 1,099.00</td>\n",
       "      <td>NaN</td>\n",
       "      <td>['Black/Striped', 'Cream/Striped', 'Navy blue'...</td>\n",
       "      <td>['XXS']</td>\n",
       "      <td>Jumper in a soft knit containing some wool wit...</td>\n",
       "      <td>Adult</td>\n",
       "      <td>Regular length</td>\n",
       "      <td>Jumper</td>\n",
       "      <td>Long sleeve</td>\n",
       "      <td>[\"41% Acrylic\", \"3% Elastane\", \"52% Polyester\"...</td>\n",
       "      <td>Women</td>\n",
       "    </tr>\n",
       "    <tr>\n",
       "      <th>4532</th>\n",
       "      <td>Wide trousers</td>\n",
       "      <td>NaN</td>\n",
       "      <td>EGP 2,499.00</td>\n",
       "      <td>NaN</td>\n",
       "      <td>['Grey marl', 'Khaki green', 'Grey', 'Light mo...</td>\n",
       "      <td>['10', '14']</td>\n",
       "      <td>Tailored, loose-fitting trousers in woven fabr...</td>\n",
       "      <td>Adult</td>\n",
       "      <td>Long</td>\n",
       "      <td>Trousers</td>\n",
       "      <td>NaN</td>\n",
       "      <td>[\"4% Elastane\", \"96% Polyester\"]</td>\n",
       "      <td>Women</td>\n",
       "    </tr>\n",
       "    <tr>\n",
       "      <th>4533</th>\n",
       "      <td>Cotton-blend shirt</td>\n",
       "      <td>NaN</td>\n",
       "      <td>EGP 1,099.00</td>\n",
       "      <td>NaN</td>\n",
       "      <td>['White']</td>\n",
       "      <td>['XXS', 'S', '3XL']</td>\n",
       "      <td>Long-sleeved shirt woven in a cotton blend wit...</td>\n",
       "      <td>Adult</td>\n",
       "      <td>NaN</td>\n",
       "      <td>Shirt</td>\n",
       "      <td>Long sleeve</td>\n",
       "      <td>[\"73% Cotton\", \"4% Elastane\", \"23% Polyester\"]</td>\n",
       "      <td>Women</td>\n",
       "    </tr>\n",
       "    <tr>\n",
       "      <th>4534</th>\n",
       "      <td>Cotton T-shirt</td>\n",
       "      <td>NaN</td>\n",
       "      <td>EGP 499.00</td>\n",
       "      <td>NaN</td>\n",
       "      <td>['Dark grey', 'White', 'Beige', 'Grey-blue', '...</td>\n",
       "      <td>['XS', 'M']</td>\n",
       "      <td>Straight-cut T-shirt in soft cotton jersey wit...</td>\n",
       "      <td>Adult</td>\n",
       "      <td>NaN</td>\n",
       "      <td>Shorts, T-shirt</td>\n",
       "      <td>Short sleeve</td>\n",
       "      <td>[\"100% Cotton\"]</td>\n",
       "      <td>Women</td>\n",
       "    </tr>\n",
       "  </tbody>\n",
       "</table>\n",
       "</div>"
      ],
      "text/plain": [
       "                      item title  original price price on sale  rating  \\\n",
       "4530  Ribbed modal-blend T-shirt             NaN    EGP 749.00     NaN   \n",
       "4531              Knitted jumper             NaN  EGP 1,099.00     NaN   \n",
       "4532               Wide trousers             NaN  EGP 2,499.00     NaN   \n",
       "4533          Cotton-blend shirt             NaN  EGP 1,099.00     NaN   \n",
       "4534              Cotton T-shirt             NaN    EGP 499.00     NaN   \n",
       "\n",
       "                                          color options  \\\n",
       "4530  ['Dark brown', 'Black', 'White', 'Light khaki ...   \n",
       "4531  ['Black/Striped', 'Cream/Striped', 'Navy blue'...   \n",
       "4532  ['Grey marl', 'Khaki green', 'Grey', 'Light mo...   \n",
       "4533                                          ['White']   \n",
       "4534  ['Dark grey', 'White', 'Beige', 'Grey-blue', '...   \n",
       "\n",
       "                size options  \\\n",
       "4530  ['XS', 'M', 'L', 'XL']   \n",
       "4531                 ['XXS']   \n",
       "4532            ['10', '14']   \n",
       "4533     ['XXS', 'S', '3XL']   \n",
       "4534             ['XS', 'M']   \n",
       "\n",
       "                                            description Age Group  \\\n",
       "4530  Fitted T-shirt in soft, ribbed cotton and moda...     Adult   \n",
       "4531  Jumper in a soft knit containing some wool wit...     Adult   \n",
       "4532  Tailored, loose-fitting trousers in woven fabr...     Adult   \n",
       "4533  Long-sleeved shirt woven in a cotton blend wit...     Adult   \n",
       "4534  Straight-cut T-shirt in soft cotton jersey wit...     Adult   \n",
       "\n",
       "      Garment Length Presentation Product Type Sleeve Length  \\\n",
       "4530  Regular length                   T-shirt  Short sleeve   \n",
       "4531  Regular length                    Jumper   Long sleeve   \n",
       "4532            Long                  Trousers           NaN   \n",
       "4533             NaN                     Shirt   Long sleeve   \n",
       "4534             NaN           Shorts, T-shirt  Short sleeve   \n",
       "\n",
       "                                            Composition category  \n",
       "4530                        [\"50% Cotton\", \"50% Modal\"]    Women  \n",
       "4531  [\"41% Acrylic\", \"3% Elastane\", \"52% Polyester\"...    Women  \n",
       "4532                   [\"4% Elastane\", \"96% Polyester\"]    Women  \n",
       "4533     [\"73% Cotton\", \"4% Elastane\", \"23% Polyester\"]    Women  \n",
       "4534                                    [\"100% Cotton\"]    Women  "
      ]
     },
     "execution_count": 509,
     "metadata": {},
     "output_type": "execute_result"
    }
   ],
   "source": [
    "combined_df.tail()"
   ]
  },
  {
   "cell_type": "code",
   "execution_count": 510,
   "metadata": {},
   "outputs": [
    {
     "name": "stdout",
     "output_type": "stream",
     "text": [
      "<class 'pandas.core.frame.DataFrame'>\n",
      "RangeIndex: 4535 entries, 0 to 4534\n",
      "Data columns (total 13 columns):\n",
      " #   Column                     Non-Null Count  Dtype  \n",
      "---  ------                     --------------  -----  \n",
      " 0   item title                 4535 non-null   object \n",
      " 1   original price             0 non-null      float64\n",
      " 2   price on sale              4535 non-null   object \n",
      " 3   rating                     0 non-null      float64\n",
      " 4   color options              4535 non-null   object \n",
      " 5   size options               4535 non-null   object \n",
      " 6   description                4534 non-null   object \n",
      " 7   Age Group                  4387 non-null   object \n",
      " 8   Garment Length             3884 non-null   object \n",
      " 9   Presentation Product Type  4534 non-null   object \n",
      " 10  Sleeve Length              2295 non-null   object \n",
      " 11  Composition                3331 non-null   object \n",
      " 12  category                   4535 non-null   object \n",
      "dtypes: float64(2), object(11)\n",
      "memory usage: 460.7+ KB\n"
     ]
    }
   ],
   "source": [
    "combined_df.info()"
   ]
  },
  {
   "cell_type": "code",
   "execution_count": 511,
   "metadata": {},
   "outputs": [
    {
     "data": {
      "text/plain": [
       "item title                      0\n",
       "original price               4535\n",
       "price on sale                   0\n",
       "rating                       4535\n",
       "color options                   0\n",
       "size options                    0\n",
       "description                     1\n",
       "Age Group                     148\n",
       "Garment Length                651\n",
       "Presentation Product Type       1\n",
       "Sleeve Length                2240\n",
       "Composition                  1204\n",
       "category                        0\n",
       "dtype: int64"
      ]
     },
     "execution_count": 511,
     "metadata": {},
     "output_type": "execute_result"
    }
   ],
   "source": [
    "#Check nulls\n",
    "combined_df.isnull().sum()\n"
   ]
  },
  {
   "cell_type": "code",
   "execution_count": 512,
   "metadata": {},
   "outputs": [
    {
     "data": {
      "text/plain": [
       "np.int64(324)"
      ]
     },
     "execution_count": 512,
     "metadata": {},
     "output_type": "execute_result"
    }
   ],
   "source": [
    "# Check duplicate rows\n",
    "combined_df.duplicated().sum()"
   ]
  },
  {
   "cell_type": "markdown",
   "metadata": {},
   "source": [
    "## Data Cleaning and Preprocessing"
   ]
  },
  {
   "cell_type": "code",
   "execution_count": 513,
   "metadata": {},
   "outputs": [],
   "source": [
    "# Moving target to the end\n",
    "price = combined_df.pop(\"price on sale\")\n",
    "combined_df[\"price\"] = price"
   ]
  },
  {
   "cell_type": "code",
   "execution_count": 514,
   "metadata": {},
   "outputs": [
    {
     "data": {
      "text/html": [
       "<div>\n",
       "<style scoped>\n",
       "    .dataframe tbody tr th:only-of-type {\n",
       "        vertical-align: middle;\n",
       "    }\n",
       "\n",
       "    .dataframe tbody tr th {\n",
       "        vertical-align: top;\n",
       "    }\n",
       "\n",
       "    .dataframe thead th {\n",
       "        text-align: right;\n",
       "    }\n",
       "</style>\n",
       "<table border=\"1\" class=\"dataframe\">\n",
       "  <thead>\n",
       "    <tr style=\"text-align: right;\">\n",
       "      <th></th>\n",
       "      <th>item title</th>\n",
       "      <th>original price</th>\n",
       "      <th>rating</th>\n",
       "      <th>color options</th>\n",
       "      <th>size options</th>\n",
       "      <th>description</th>\n",
       "      <th>Age Group</th>\n",
       "      <th>Garment Length</th>\n",
       "      <th>Presentation Product Type</th>\n",
       "      <th>Sleeve Length</th>\n",
       "      <th>Composition</th>\n",
       "      <th>category</th>\n",
       "      <th>price</th>\n",
       "    </tr>\n",
       "  </thead>\n",
       "  <tbody>\n",
       "    <tr>\n",
       "      <th>0</th>\n",
       "      <td>UPF 50 Sun protection set</td>\n",
       "      <td>NaN</td>\n",
       "      <td>NaN</td>\n",
       "      <td>['Light blue/Striped', 'Cream/Fish', 'Cream/Fl...</td>\n",
       "      <td>['1.5-2Y', '3-4Y', '4-5Y']</td>\n",
       "      <td>Sun protection suit and matching sun protectio...</td>\n",
       "      <td>Baby</td>\n",
       "      <td>Short</td>\n",
       "      <td>Swimsuit</td>\n",
       "      <td>Long sleeve</td>\n",
       "      <td>[\"83.0% Polyester\", \"17.0% Elastane\"]</td>\n",
       "      <td>Baby Boy</td>\n",
       "      <td>EGP 1,999.00</td>\n",
       "    </tr>\n",
       "    <tr>\n",
       "      <th>1</th>\n",
       "      <td>Printed cotton T-shirt</td>\n",
       "      <td>NaN</td>\n",
       "      <td>NaN</td>\n",
       "      <td>[]</td>\n",
       "      <td>['6M', '9M', '12M', '18M', '2Y', '3Y', '4Y']</td>\n",
       "      <td>T-shirt in soft cotton jersey with print motif...</td>\n",
       "      <td>Baby</td>\n",
       "      <td>Regular length</td>\n",
       "      <td>T-shirt</td>\n",
       "      <td>Short sleeve</td>\n",
       "      <td>[\"100.0% Cotton\"]</td>\n",
       "      <td>Baby Boy</td>\n",
       "      <td>EGP 449.00</td>\n",
       "    </tr>\n",
       "    <tr>\n",
       "      <th>2</th>\n",
       "      <td>Printed cotton T-shirt</td>\n",
       "      <td>NaN</td>\n",
       "      <td>NaN</td>\n",
       "      <td>['Light blue/Striped', 'Yellow/California', 'T...</td>\n",
       "      <td>['18M', '2Y', '4Y']</td>\n",
       "      <td>T-shirt in soft cotton jersey with print motif...</td>\n",
       "      <td>Baby</td>\n",
       "      <td>Regular length</td>\n",
       "      <td>T-shirt</td>\n",
       "      <td>Short sleeve</td>\n",
       "      <td>[\"100.0% Cotton\"]</td>\n",
       "      <td>Baby Boy</td>\n",
       "      <td>EGP 449.00</td>\n",
       "    </tr>\n",
       "  </tbody>\n",
       "</table>\n",
       "</div>"
      ],
      "text/plain": [
       "                  item title  original price  rating  \\\n",
       "0  UPF 50 Sun protection set             NaN     NaN   \n",
       "1     Printed cotton T-shirt             NaN     NaN   \n",
       "2     Printed cotton T-shirt             NaN     NaN   \n",
       "\n",
       "                                       color options  \\\n",
       "0  ['Light blue/Striped', 'Cream/Fish', 'Cream/Fl...   \n",
       "1                                                 []   \n",
       "2  ['Light blue/Striped', 'Yellow/California', 'T...   \n",
       "\n",
       "                                   size options  \\\n",
       "0                    ['1.5-2Y', '3-4Y', '4-5Y']   \n",
       "1  ['6M', '9M', '12M', '18M', '2Y', '3Y', '4Y']   \n",
       "2                           ['18M', '2Y', '4Y']   \n",
       "\n",
       "                                         description Age Group  \\\n",
       "0  Sun protection suit and matching sun protectio...      Baby   \n",
       "1  T-shirt in soft cotton jersey with print motif...      Baby   \n",
       "2  T-shirt in soft cotton jersey with print motif...      Baby   \n",
       "\n",
       "   Garment Length Presentation Product Type Sleeve Length  \\\n",
       "0           Short                  Swimsuit   Long sleeve   \n",
       "1  Regular length                   T-shirt  Short sleeve   \n",
       "2  Regular length                   T-shirt  Short sleeve   \n",
       "\n",
       "                             Composition  category         price  \n",
       "0  [\"83.0% Polyester\", \"17.0% Elastane\"]  Baby Boy  EGP 1,999.00  \n",
       "1                      [\"100.0% Cotton\"]  Baby Boy    EGP 449.00  \n",
       "2                      [\"100.0% Cotton\"]  Baby Boy    EGP 449.00  "
      ]
     },
     "execution_count": 514,
     "metadata": {},
     "output_type": "execute_result"
    }
   ],
   "source": [
    "combined_df.head(3)"
   ]
  },
  {
   "cell_type": "markdown",
   "metadata": {},
   "source": [
    "#### Dropping columns"
   ]
  },
  {
   "cell_type": "code",
   "execution_count": 515,
   "metadata": {},
   "outputs": [],
   "source": [
    "# Dropping columns with large number of nulls\n",
    "combined_df.drop([\"original price\", \"rating\"], axis=1, inplace=True)"
   ]
  },
  {
   "cell_type": "code",
   "execution_count": 516,
   "metadata": {},
   "outputs": [],
   "source": [
    "# Dropping unrelated columns\n",
    "combined_df.drop([\"item title\", \"color options\", \"size options\",\"description\"], axis=1, inplace=True)"
   ]
  },
  {
   "cell_type": "code",
   "execution_count": 517,
   "metadata": {},
   "outputs": [
    {
     "data": {
      "text/html": [
       "<div>\n",
       "<style scoped>\n",
       "    .dataframe tbody tr th:only-of-type {\n",
       "        vertical-align: middle;\n",
       "    }\n",
       "\n",
       "    .dataframe tbody tr th {\n",
       "        vertical-align: top;\n",
       "    }\n",
       "\n",
       "    .dataframe thead th {\n",
       "        text-align: right;\n",
       "    }\n",
       "</style>\n",
       "<table border=\"1\" class=\"dataframe\">\n",
       "  <thead>\n",
       "    <tr style=\"text-align: right;\">\n",
       "      <th></th>\n",
       "      <th>Age Group</th>\n",
       "      <th>Garment Length</th>\n",
       "      <th>Presentation Product Type</th>\n",
       "      <th>Sleeve Length</th>\n",
       "      <th>Composition</th>\n",
       "      <th>category</th>\n",
       "      <th>price</th>\n",
       "    </tr>\n",
       "  </thead>\n",
       "  <tbody>\n",
       "    <tr>\n",
       "      <th>0</th>\n",
       "      <td>Baby</td>\n",
       "      <td>Short</td>\n",
       "      <td>Swimsuit</td>\n",
       "      <td>Long sleeve</td>\n",
       "      <td>[\"83.0% Polyester\", \"17.0% Elastane\"]</td>\n",
       "      <td>Baby Boy</td>\n",
       "      <td>EGP 1,999.00</td>\n",
       "    </tr>\n",
       "    <tr>\n",
       "      <th>1</th>\n",
       "      <td>Baby</td>\n",
       "      <td>Regular length</td>\n",
       "      <td>T-shirt</td>\n",
       "      <td>Short sleeve</td>\n",
       "      <td>[\"100.0% Cotton\"]</td>\n",
       "      <td>Baby Boy</td>\n",
       "      <td>EGP 449.00</td>\n",
       "    </tr>\n",
       "    <tr>\n",
       "      <th>2</th>\n",
       "      <td>Baby</td>\n",
       "      <td>Regular length</td>\n",
       "      <td>T-shirt</td>\n",
       "      <td>Short sleeve</td>\n",
       "      <td>[\"100.0% Cotton\"]</td>\n",
       "      <td>Baby Boy</td>\n",
       "      <td>EGP 449.00</td>\n",
       "    </tr>\n",
       "  </tbody>\n",
       "</table>\n",
       "</div>"
      ],
      "text/plain": [
       "  Age Group  Garment Length Presentation Product Type Sleeve Length  \\\n",
       "0      Baby           Short                  Swimsuit   Long sleeve   \n",
       "1      Baby  Regular length                   T-shirt  Short sleeve   \n",
       "2      Baby  Regular length                   T-shirt  Short sleeve   \n",
       "\n",
       "                             Composition  category         price  \n",
       "0  [\"83.0% Polyester\", \"17.0% Elastane\"]  Baby Boy  EGP 1,999.00  \n",
       "1                      [\"100.0% Cotton\"]  Baby Boy    EGP 449.00  \n",
       "2                      [\"100.0% Cotton\"]  Baby Boy    EGP 449.00  "
      ]
     },
     "execution_count": 517,
     "metadata": {},
     "output_type": "execute_result"
    }
   ],
   "source": [
    "combined_df.head(3)"
   ]
  },
  {
   "cell_type": "markdown",
   "metadata": {},
   "source": [
    "##### Dropping duplicate rows"
   ]
  },
  {
   "cell_type": "code",
   "execution_count": 518,
   "metadata": {},
   "outputs": [
    {
     "data": {
      "text/plain": [
       "np.int64(1825)"
      ]
     },
     "execution_count": 518,
     "metadata": {},
     "output_type": "execute_result"
    }
   ],
   "source": [
    "combined_df.duplicated().sum()"
   ]
  },
  {
   "cell_type": "code",
   "execution_count": 519,
   "metadata": {},
   "outputs": [],
   "source": [
    "combined_df.drop_duplicates(inplace=True)"
   ]
  },
  {
   "cell_type": "code",
   "execution_count": 520,
   "metadata": {},
   "outputs": [
    {
     "data": {
      "text/plain": [
       "(2710, 7)"
      ]
     },
     "execution_count": 520,
     "metadata": {},
     "output_type": "execute_result"
    }
   ],
   "source": [
    "combined_df.shape"
   ]
  },
  {
   "cell_type": "code",
   "execution_count": 521,
   "metadata": {},
   "outputs": [
    {
     "data": {
      "text/plain": [
       "Age Group                     105\n",
       "Garment Length                395\n",
       "Presentation Product Type       1\n",
       "Sleeve Length                1395\n",
       "Composition                   676\n",
       "category                        0\n",
       "price                           0\n",
       "dtype: int64"
      ]
     },
     "execution_count": 521,
     "metadata": {},
     "output_type": "execute_result"
    }
   ],
   "source": [
    "combined_df.isnull().sum()"
   ]
  },
  {
   "cell_type": "markdown",
   "metadata": {},
   "source": [
    "#### Price column cleaning"
   ]
  },
  {
   "cell_type": "code",
   "execution_count": 522,
   "metadata": {},
   "outputs": [],
   "source": [
    "#Convert price to numerical values\n",
    "combined_df[\"price\"] = combined_df[\"price\"].str.replace(\"EGP\", \"\", regex=True)  # Remove \"EGP\"\n",
    "combined_df[\"price\"] = combined_df[\"price\"].str.replace(\",\", \"\", regex=True)  # Remove commas\n",
    "combined_df[\"price\"] = combined_df[\"price\"].str.strip()  # Remove extra spaces\n",
    "combined_df[\"price\"] = pd.to_numeric(combined_df[\"price\"], errors=\"coerce\")  # Convert to numeric"
   ]
  },
  {
   "cell_type": "code",
   "execution_count": 523,
   "metadata": {},
   "outputs": [
    {
     "name": "stdout",
     "output_type": "stream",
     "text": [
      "<class 'pandas.core.frame.DataFrame'>\n",
      "Index: 2710 entries, 0 to 4534\n",
      "Data columns (total 7 columns):\n",
      " #   Column                     Non-Null Count  Dtype  \n",
      "---  ------                     --------------  -----  \n",
      " 0   Age Group                  2605 non-null   object \n",
      " 1   Garment Length             2315 non-null   object \n",
      " 2   Presentation Product Type  2709 non-null   object \n",
      " 3   Sleeve Length              1315 non-null   object \n",
      " 4   Composition                2034 non-null   object \n",
      " 5   category                   2710 non-null   object \n",
      " 6   price                      2710 non-null   float64\n",
      "dtypes: float64(1), object(6)\n",
      "memory usage: 169.4+ KB\n"
     ]
    }
   ],
   "source": [
    "combined_df.info()"
   ]
  },
  {
   "cell_type": "code",
   "execution_count": 524,
   "metadata": {},
   "outputs": [
    {
     "data": {
      "text/html": [
       "<div>\n",
       "<style scoped>\n",
       "    .dataframe tbody tr th:only-of-type {\n",
       "        vertical-align: middle;\n",
       "    }\n",
       "\n",
       "    .dataframe tbody tr th {\n",
       "        vertical-align: top;\n",
       "    }\n",
       "\n",
       "    .dataframe thead th {\n",
       "        text-align: right;\n",
       "    }\n",
       "</style>\n",
       "<table border=\"1\" class=\"dataframe\">\n",
       "  <thead>\n",
       "    <tr style=\"text-align: right;\">\n",
       "      <th></th>\n",
       "      <th>Age Group</th>\n",
       "      <th>Garment Length</th>\n",
       "      <th>Presentation Product Type</th>\n",
       "      <th>Sleeve Length</th>\n",
       "      <th>Composition</th>\n",
       "      <th>category</th>\n",
       "      <th>price</th>\n",
       "    </tr>\n",
       "  </thead>\n",
       "  <tbody>\n",
       "    <tr>\n",
       "      <th>0</th>\n",
       "      <td>Baby</td>\n",
       "      <td>Short</td>\n",
       "      <td>Swimsuit</td>\n",
       "      <td>Long sleeve</td>\n",
       "      <td>[\"83.0% Polyester\", \"17.0% Elastane\"]</td>\n",
       "      <td>Baby Boy</td>\n",
       "      <td>1999.0</td>\n",
       "    </tr>\n",
       "    <tr>\n",
       "      <th>1</th>\n",
       "      <td>Baby</td>\n",
       "      <td>Regular length</td>\n",
       "      <td>T-shirt</td>\n",
       "      <td>Short sleeve</td>\n",
       "      <td>[\"100.0% Cotton\"]</td>\n",
       "      <td>Baby Boy</td>\n",
       "      <td>449.0</td>\n",
       "    </tr>\n",
       "    <tr>\n",
       "      <th>4</th>\n",
       "      <td>Baby</td>\n",
       "      <td>NaN</td>\n",
       "      <td>Bodysuit</td>\n",
       "      <td>Long sleeve</td>\n",
       "      <td>[\"100.0% Cotton\"]</td>\n",
       "      <td>Baby Boy</td>\n",
       "      <td>399.0</td>\n",
       "    </tr>\n",
       "  </tbody>\n",
       "</table>\n",
       "</div>"
      ],
      "text/plain": [
       "  Age Group  Garment Length Presentation Product Type Sleeve Length  \\\n",
       "0      Baby           Short                  Swimsuit   Long sleeve   \n",
       "1      Baby  Regular length                   T-shirt  Short sleeve   \n",
       "4      Baby             NaN                  Bodysuit   Long sleeve   \n",
       "\n",
       "                             Composition  category   price  \n",
       "0  [\"83.0% Polyester\", \"17.0% Elastane\"]  Baby Boy  1999.0  \n",
       "1                      [\"100.0% Cotton\"]  Baby Boy   449.0  \n",
       "4                      [\"100.0% Cotton\"]  Baby Boy   399.0  "
      ]
     },
     "execution_count": 524,
     "metadata": {},
     "output_type": "execute_result"
    }
   ],
   "source": [
    "combined_df.head(3)"
   ]
  },
  {
   "cell_type": "markdown",
   "metadata": {},
   "source": [
    "##### Age Group column cleaning"
   ]
  },
  {
   "cell_type": "code",
   "execution_count": 525,
   "metadata": {},
   "outputs": [
    {
     "data": {
      "text/plain": [
       "array(['Baby', 'Baby, Newborn', 'Newborn', 'Newborn, Baby', nan,\n",
       "       'Younger child, Older child', 'Older child, Younger child',\n",
       "       'Younger child', 'Older child', 'Baby, Younger child', 'Adult'],\n",
       "      dtype=object)"
      ]
     },
     "execution_count": 525,
     "metadata": {},
     "output_type": "execute_result"
    }
   ],
   "source": [
    "combined_df[\"Age Group\"].unique()"
   ]
  },
  {
   "cell_type": "code",
   "execution_count": 526,
   "metadata": {},
   "outputs": [
    {
     "data": {
      "text/plain": [
       "Age Group\n",
       "Adult                         729\n",
       "Younger child                 659\n",
       "Baby                          377\n",
       "Older child                   376\n",
       "Baby, Newborn                 270\n",
       "Newborn                       112\n",
       "Newborn, Baby                  32\n",
       "Younger child, Older child     31\n",
       "Older child, Younger child     18\n",
       "Baby, Younger child             1\n",
       "Name: count, dtype: int64"
      ]
     },
     "execution_count": 526,
     "metadata": {},
     "output_type": "execute_result"
    }
   ],
   "source": [
    "combined_df[\"Age Group\"].value_counts()\n"
   ]
  },
  {
   "cell_type": "code",
   "execution_count": 527,
   "metadata": {},
   "outputs": [],
   "source": [
    "combined_df[\"Age Group\"] = combined_df[\"Age Group\"].str.split(\", \")\n",
    "combined_df = combined_df.explode(\"Age Group\").reset_index(drop=True) # Split multi-value rows"
   ]
  },
  {
   "cell_type": "code",
   "execution_count": 528,
   "metadata": {},
   "outputs": [
    {
     "data": {
      "text/plain": [
       "Age Group\n",
       "Adult            729\n",
       "Younger child    709\n",
       "Baby             680\n",
       "Older child      425\n",
       "Newborn          414\n",
       "Name: count, dtype: int64"
      ]
     },
     "execution_count": 528,
     "metadata": {},
     "output_type": "execute_result"
    }
   ],
   "source": [
    "combined_df[\"Age Group\"].value_counts()\n"
   ]
  },
  {
   "cell_type": "code",
   "execution_count": 529,
   "metadata": {},
   "outputs": [
    {
     "data": {
      "text/html": [
       "<div>\n",
       "<style scoped>\n",
       "    .dataframe tbody tr th:only-of-type {\n",
       "        vertical-align: middle;\n",
       "    }\n",
       "\n",
       "    .dataframe tbody tr th {\n",
       "        vertical-align: top;\n",
       "    }\n",
       "\n",
       "    .dataframe thead th {\n",
       "        text-align: right;\n",
       "    }\n",
       "</style>\n",
       "<table border=\"1\" class=\"dataframe\">\n",
       "  <thead>\n",
       "    <tr style=\"text-align: right;\">\n",
       "      <th></th>\n",
       "      <th>Age Group</th>\n",
       "      <th>Garment Length</th>\n",
       "      <th>Presentation Product Type</th>\n",
       "      <th>Sleeve Length</th>\n",
       "      <th>Composition</th>\n",
       "      <th>category</th>\n",
       "      <th>price</th>\n",
       "    </tr>\n",
       "  </thead>\n",
       "  <tbody>\n",
       "    <tr>\n",
       "      <th>0</th>\n",
       "      <td>Baby</td>\n",
       "      <td>Short</td>\n",
       "      <td>Swimsuit</td>\n",
       "      <td>Long sleeve</td>\n",
       "      <td>[\"83.0% Polyester\", \"17.0% Elastane\"]</td>\n",
       "      <td>Baby Boy</td>\n",
       "      <td>1999.0</td>\n",
       "    </tr>\n",
       "    <tr>\n",
       "      <th>1</th>\n",
       "      <td>Baby</td>\n",
       "      <td>Regular length</td>\n",
       "      <td>T-shirt</td>\n",
       "      <td>Short sleeve</td>\n",
       "      <td>[\"100.0% Cotton\"]</td>\n",
       "      <td>Baby Boy</td>\n",
       "      <td>449.0</td>\n",
       "    </tr>\n",
       "    <tr>\n",
       "      <th>2</th>\n",
       "      <td>Baby</td>\n",
       "      <td>NaN</td>\n",
       "      <td>Bodysuit</td>\n",
       "      <td>Long sleeve</td>\n",
       "      <td>[\"100.0% Cotton\"]</td>\n",
       "      <td>Baby Boy</td>\n",
       "      <td>399.0</td>\n",
       "    </tr>\n",
       "    <tr>\n",
       "      <th>3</th>\n",
       "      <td>Baby</td>\n",
       "      <td>Short</td>\n",
       "      <td>Shorts</td>\n",
       "      <td>NaN</td>\n",
       "      <td>[\"99.0% Cotton\", \"1.0% Viscose\"]</td>\n",
       "      <td>Baby Boy</td>\n",
       "      <td>649.0</td>\n",
       "    </tr>\n",
       "    <tr>\n",
       "      <th>4</th>\n",
       "      <td>Baby</td>\n",
       "      <td>Regular length, Short</td>\n",
       "      <td>T-shirt, Shorts</td>\n",
       "      <td>Short sleeve</td>\n",
       "      <td>[\"100.0% Cotton\"]</td>\n",
       "      <td>Baby Boy</td>\n",
       "      <td>899.0</td>\n",
       "    </tr>\n",
       "  </tbody>\n",
       "</table>\n",
       "</div>"
      ],
      "text/plain": [
       "  Age Group         Garment Length Presentation Product Type Sleeve Length  \\\n",
       "0      Baby                  Short                  Swimsuit   Long sleeve   \n",
       "1      Baby         Regular length                   T-shirt  Short sleeve   \n",
       "2      Baby                    NaN                  Bodysuit   Long sleeve   \n",
       "3      Baby                  Short                    Shorts           NaN   \n",
       "4      Baby  Regular length, Short           T-shirt, Shorts  Short sleeve   \n",
       "\n",
       "                             Composition  category   price  \n",
       "0  [\"83.0% Polyester\", \"17.0% Elastane\"]  Baby Boy  1999.0  \n",
       "1                      [\"100.0% Cotton\"]  Baby Boy   449.0  \n",
       "2                      [\"100.0% Cotton\"]  Baby Boy   399.0  \n",
       "3       [\"99.0% Cotton\", \"1.0% Viscose\"]  Baby Boy   649.0  \n",
       "4                      [\"100.0% Cotton\"]  Baby Boy   899.0  "
      ]
     },
     "execution_count": 529,
     "metadata": {},
     "output_type": "execute_result"
    }
   ],
   "source": [
    "combined_df.head()"
   ]
  },
  {
   "cell_type": "markdown",
   "metadata": {},
   "source": [
    "##### Sleeve Length column cleaning"
   ]
  },
  {
   "cell_type": "code",
   "execution_count": 530,
   "metadata": {},
   "outputs": [
    {
     "data": {
      "text/plain": [
       "Sleeve Length\n",
       "Long sleeve                  1035\n",
       "Short sleeve                  314\n",
       "Sleeveless                    148\n",
       "Extra long sleeve              20\n",
       "3/4 Sleeve                     10\n",
       "Long sleeve, Sleeveless         3\n",
       "Short sleeve, Long sleeve       2\n",
       "Long sleeve, Short sleeve       1\n",
       "Short sleeve, Sleeveless        1\n",
       "Sleeveless, Long sleeve         1\n",
       "Name: count, dtype: int64"
      ]
     },
     "execution_count": 530,
     "metadata": {},
     "output_type": "execute_result"
    }
   ],
   "source": [
    "combined_df[\"Sleeve Length\"].value_counts()"
   ]
  },
  {
   "cell_type": "code",
   "execution_count": 531,
   "metadata": {},
   "outputs": [
    {
     "data": {
      "text/plain": [
       "Sleeve Length\n",
       "Long sleeve          1035\n",
       "Short sleeve          314\n",
       "Sleeveless            148\n",
       "Extra long sleeve      20\n",
       "3/4 Sleeve             10\n",
       "Name: count, dtype: int64"
      ]
     },
     "execution_count": 531,
     "metadata": {},
     "output_type": "execute_result"
    }
   ],
   "source": [
    "combined_df = combined_df[~combined_df[\"Sleeve Length\"].isin([\"Long sleeve, Sleeveless\", \n",
    "                                                              \"Short sleeve, Long sleeve\",\n",
    "                                                                \"Short sleeve, Sleeveless\",\n",
    "                                                                \"Sleeveless, Long sleeve\",\n",
    "                                                                \"Long sleeve, Short sleeve\"])]\n",
    "\n",
    "combined_df[\"Sleeve Length\"].value_counts()"
   ]
  },
  {
   "cell_type": "code",
   "execution_count": 532,
   "metadata": {},
   "outputs": [
    {
     "data": {
      "text/plain": [
       "(3054, 7)"
      ]
     },
     "execution_count": 532,
     "metadata": {},
     "output_type": "execute_result"
    }
   ],
   "source": [
    "combined_df.shape"
   ]
  },
  {
   "cell_type": "markdown",
   "metadata": {},
   "source": [
    "##### Category column cleaning"
   ]
  },
  {
   "cell_type": "code",
   "execution_count": 533,
   "metadata": {},
   "outputs": [
    {
     "data": {
      "text/plain": [
       "11"
      ]
     },
     "execution_count": 533,
     "metadata": {},
     "output_type": "execute_result"
    }
   ],
   "source": [
    "combined_df[\"category\"].nunique()"
   ]
  },
  {
   "cell_type": "code",
   "execution_count": 534,
   "metadata": {},
   "outputs": [
    {
     "data": {
      "text/plain": [
       "category\n",
       "Girls 2-8Y      471\n",
       "Baby Girl       399\n",
       "Baby Boy        380\n",
       "Women           333\n",
       "Boys 2-8Y       327\n",
       "New Born        315\n",
       "Men             265\n",
       "Girls 9-14Y     240\n",
       "Boys 9-14Y      191\n",
       "Sports_Women    100\n",
       "Sports_Men       33\n",
       "Name: count, dtype: int64"
      ]
     },
     "execution_count": 534,
     "metadata": {},
     "output_type": "execute_result"
    }
   ],
   "source": [
    "combined_df[\"category\"].value_counts()"
   ]
  },
  {
   "cell_type": "code",
   "execution_count": 535,
   "metadata": {},
   "outputs": [
    {
     "data": {
      "text/html": [
       "<div>\n",
       "<style scoped>\n",
       "    .dataframe tbody tr th:only-of-type {\n",
       "        vertical-align: middle;\n",
       "    }\n",
       "\n",
       "    .dataframe tbody tr th {\n",
       "        vertical-align: top;\n",
       "    }\n",
       "\n",
       "    .dataframe thead th {\n",
       "        text-align: right;\n",
       "    }\n",
       "</style>\n",
       "<table border=\"1\" class=\"dataframe\">\n",
       "  <thead>\n",
       "    <tr style=\"text-align: right;\">\n",
       "      <th></th>\n",
       "      <th>count</th>\n",
       "      <th>mean</th>\n",
       "      <th>std</th>\n",
       "      <th>min</th>\n",
       "      <th>25%</th>\n",
       "      <th>50%</th>\n",
       "      <th>75%</th>\n",
       "      <th>max</th>\n",
       "    </tr>\n",
       "    <tr>\n",
       "      <th>category</th>\n",
       "      <th></th>\n",
       "      <th></th>\n",
       "      <th></th>\n",
       "      <th></th>\n",
       "      <th></th>\n",
       "      <th></th>\n",
       "      <th></th>\n",
       "      <th></th>\n",
       "    </tr>\n",
       "  </thead>\n",
       "  <tbody>\n",
       "    <tr>\n",
       "      <th>Baby Boy</th>\n",
       "      <td>380.0</td>\n",
       "      <td>985.842105</td>\n",
       "      <td>416.003129</td>\n",
       "      <td>349.0</td>\n",
       "      <td>749.0</td>\n",
       "      <td>899.0</td>\n",
       "      <td>1099.0</td>\n",
       "      <td>2799.0</td>\n",
       "    </tr>\n",
       "    <tr>\n",
       "      <th>Baby Girl</th>\n",
       "      <td>399.0</td>\n",
       "      <td>986.092732</td>\n",
       "      <td>394.102337</td>\n",
       "      <td>399.0</td>\n",
       "      <td>749.0</td>\n",
       "      <td>899.0</td>\n",
       "      <td>1099.0</td>\n",
       "      <td>2799.0</td>\n",
       "    </tr>\n",
       "    <tr>\n",
       "      <th>Boys 2-8Y</th>\n",
       "      <td>327.0</td>\n",
       "      <td>1281.568807</td>\n",
       "      <td>645.027327</td>\n",
       "      <td>399.0</td>\n",
       "      <td>799.0</td>\n",
       "      <td>1099.0</td>\n",
       "      <td>1699.0</td>\n",
       "      <td>2999.0</td>\n",
       "    </tr>\n",
       "    <tr>\n",
       "      <th>Boys 9-14Y</th>\n",
       "      <td>191.0</td>\n",
       "      <td>1483.188482</td>\n",
       "      <td>804.001994</td>\n",
       "      <td>179.0</td>\n",
       "      <td>899.0</td>\n",
       "      <td>1199.0</td>\n",
       "      <td>1699.0</td>\n",
       "      <td>4499.0</td>\n",
       "    </tr>\n",
       "    <tr>\n",
       "      <th>Girls 2-8Y</th>\n",
       "      <td>471.0</td>\n",
       "      <td>1179.148620</td>\n",
       "      <td>574.228232</td>\n",
       "      <td>449.0</td>\n",
       "      <td>749.0</td>\n",
       "      <td>999.0</td>\n",
       "      <td>1499.0</td>\n",
       "      <td>3999.0</td>\n",
       "    </tr>\n",
       "    <tr>\n",
       "      <th>Girls 9-14Y</th>\n",
       "      <td>240.0</td>\n",
       "      <td>1194.208333</td>\n",
       "      <td>544.915600</td>\n",
       "      <td>449.0</td>\n",
       "      <td>799.0</td>\n",
       "      <td>999.0</td>\n",
       "      <td>1499.0</td>\n",
       "      <td>2799.0</td>\n",
       "    </tr>\n",
       "    <tr>\n",
       "      <th>Men</th>\n",
       "      <td>265.0</td>\n",
       "      <td>1956.358491</td>\n",
       "      <td>976.200021</td>\n",
       "      <td>449.0</td>\n",
       "      <td>1099.0</td>\n",
       "      <td>1999.0</td>\n",
       "      <td>2799.0</td>\n",
       "      <td>5999.0</td>\n",
       "    </tr>\n",
       "    <tr>\n",
       "      <th>New Born</th>\n",
       "      <td>315.0</td>\n",
       "      <td>1056.460317</td>\n",
       "      <td>387.359871</td>\n",
       "      <td>449.0</td>\n",
       "      <td>799.0</td>\n",
       "      <td>999.0</td>\n",
       "      <td>1199.0</td>\n",
       "      <td>2799.0</td>\n",
       "    </tr>\n",
       "    <tr>\n",
       "      <th>Sports_Men</th>\n",
       "      <td>33.0</td>\n",
       "      <td>1785.363636</td>\n",
       "      <td>1014.756184</td>\n",
       "      <td>749.0</td>\n",
       "      <td>899.0</td>\n",
       "      <td>1699.0</td>\n",
       "      <td>2199.0</td>\n",
       "      <td>4499.0</td>\n",
       "    </tr>\n",
       "    <tr>\n",
       "      <th>Sports_Women</th>\n",
       "      <td>100.0</td>\n",
       "      <td>2053.500000</td>\n",
       "      <td>2005.511283</td>\n",
       "      <td>699.0</td>\n",
       "      <td>899.0</td>\n",
       "      <td>1199.0</td>\n",
       "      <td>2799.0</td>\n",
       "      <td>16999.0</td>\n",
       "    </tr>\n",
       "    <tr>\n",
       "      <th>Women</th>\n",
       "      <td>333.0</td>\n",
       "      <td>2211.312312</td>\n",
       "      <td>1155.297541</td>\n",
       "      <td>499.0</td>\n",
       "      <td>1199.0</td>\n",
       "      <td>1999.0</td>\n",
       "      <td>2999.0</td>\n",
       "      <td>5999.0</td>\n",
       "    </tr>\n",
       "  </tbody>\n",
       "</table>\n",
       "</div>"
      ],
      "text/plain": [
       "              count         mean          std    min     25%     50%     75%  \\\n",
       "category                                                                       \n",
       "Baby Boy      380.0   985.842105   416.003129  349.0   749.0   899.0  1099.0   \n",
       "Baby Girl     399.0   986.092732   394.102337  399.0   749.0   899.0  1099.0   \n",
       "Boys 2-8Y     327.0  1281.568807   645.027327  399.0   799.0  1099.0  1699.0   \n",
       "Boys 9-14Y    191.0  1483.188482   804.001994  179.0   899.0  1199.0  1699.0   \n",
       "Girls 2-8Y    471.0  1179.148620   574.228232  449.0   749.0   999.0  1499.0   \n",
       "Girls 9-14Y   240.0  1194.208333   544.915600  449.0   799.0   999.0  1499.0   \n",
       "Men           265.0  1956.358491   976.200021  449.0  1099.0  1999.0  2799.0   \n",
       "New Born      315.0  1056.460317   387.359871  449.0   799.0   999.0  1199.0   \n",
       "Sports_Men     33.0  1785.363636  1014.756184  749.0   899.0  1699.0  2199.0   \n",
       "Sports_Women  100.0  2053.500000  2005.511283  699.0   899.0  1199.0  2799.0   \n",
       "Women         333.0  2211.312312  1155.297541  499.0  1199.0  1999.0  2999.0   \n",
       "\n",
       "                  max  \n",
       "category               \n",
       "Baby Boy       2799.0  \n",
       "Baby Girl      2799.0  \n",
       "Boys 2-8Y      2999.0  \n",
       "Boys 9-14Y     4499.0  \n",
       "Girls 2-8Y     3999.0  \n",
       "Girls 9-14Y    2799.0  \n",
       "Men            5999.0  \n",
       "New Born       2799.0  \n",
       "Sports_Men     4499.0  \n",
       "Sports_Women  16999.0  \n",
       "Women          5999.0  "
      ]
     },
     "execution_count": 535,
     "metadata": {},
     "output_type": "execute_result"
    }
   ],
   "source": [
    "combined_df.groupby(\"category\")[\"price\"].describe()"
   ]
  },
  {
   "cell_type": "code",
   "execution_count": 536,
   "metadata": {},
   "outputs": [],
   "source": [
    "replace_values = {\n",
    "    \"Baby Boy\": \"Boy\",\n",
    "    \"Baby Girl\": \"Girl\",\n",
    "    \"Boys 2-8Y\": \"Boy\",\n",
    "    \"Girls 2-8Y\": \"Girl\",\n",
    "    \"Boys 9-14Y\": \"Boy\",\n",
    "    \"Girls 9-14Y\": \"Girl\"\n",
    "}\n",
    "\n",
    "combined_df[\"category\"] = combined_df[\"category\"].replace(replace_values)"
   ]
  },
  {
   "cell_type": "code",
   "execution_count": 537,
   "metadata": {},
   "outputs": [
    {
     "data": {
      "text/plain": [
       "category\n",
       "Girl            1110\n",
       "Boy              898\n",
       "Women            333\n",
       "New Born         315\n",
       "Men              265\n",
       "Sports_Women     100\n",
       "Sports_Men        33\n",
       "Name: count, dtype: int64"
      ]
     },
     "execution_count": 537,
     "metadata": {},
     "output_type": "execute_result"
    }
   ],
   "source": [
    "combined_df[\"category\"].value_counts()"
   ]
  },
  {
   "cell_type": "code",
   "execution_count": 538,
   "metadata": {},
   "outputs": [
    {
     "data": {
      "text/html": [
       "<div>\n",
       "<style scoped>\n",
       "    .dataframe tbody tr th:only-of-type {\n",
       "        vertical-align: middle;\n",
       "    }\n",
       "\n",
       "    .dataframe tbody tr th {\n",
       "        vertical-align: top;\n",
       "    }\n",
       "\n",
       "    .dataframe thead th {\n",
       "        text-align: right;\n",
       "    }\n",
       "</style>\n",
       "<table border=\"1\" class=\"dataframe\">\n",
       "  <thead>\n",
       "    <tr style=\"text-align: right;\">\n",
       "      <th></th>\n",
       "      <th>Age Group</th>\n",
       "      <th>Garment Length</th>\n",
       "      <th>Presentation Product Type</th>\n",
       "      <th>Sleeve Length</th>\n",
       "      <th>Composition</th>\n",
       "      <th>category</th>\n",
       "      <th>price</th>\n",
       "    </tr>\n",
       "  </thead>\n",
       "  <tbody>\n",
       "    <tr>\n",
       "      <th>0</th>\n",
       "      <td>Baby</td>\n",
       "      <td>Short</td>\n",
       "      <td>Swimsuit</td>\n",
       "      <td>Long sleeve</td>\n",
       "      <td>[\"83.0% Polyester\", \"17.0% Elastane\"]</td>\n",
       "      <td>Boy</td>\n",
       "      <td>1999.0</td>\n",
       "    </tr>\n",
       "    <tr>\n",
       "      <th>1</th>\n",
       "      <td>Baby</td>\n",
       "      <td>Regular length</td>\n",
       "      <td>T-shirt</td>\n",
       "      <td>Short sleeve</td>\n",
       "      <td>[\"100.0% Cotton\"]</td>\n",
       "      <td>Boy</td>\n",
       "      <td>449.0</td>\n",
       "    </tr>\n",
       "    <tr>\n",
       "      <th>2</th>\n",
       "      <td>Baby</td>\n",
       "      <td>NaN</td>\n",
       "      <td>Bodysuit</td>\n",
       "      <td>Long sleeve</td>\n",
       "      <td>[\"100.0% Cotton\"]</td>\n",
       "      <td>Boy</td>\n",
       "      <td>399.0</td>\n",
       "    </tr>\n",
       "  </tbody>\n",
       "</table>\n",
       "</div>"
      ],
      "text/plain": [
       "  Age Group  Garment Length Presentation Product Type Sleeve Length  \\\n",
       "0      Baby           Short                  Swimsuit   Long sleeve   \n",
       "1      Baby  Regular length                   T-shirt  Short sleeve   \n",
       "2      Baby             NaN                  Bodysuit   Long sleeve   \n",
       "\n",
       "                             Composition category   price  \n",
       "0  [\"83.0% Polyester\", \"17.0% Elastane\"]      Boy  1999.0  \n",
       "1                      [\"100.0% Cotton\"]      Boy   449.0  \n",
       "2                      [\"100.0% Cotton\"]      Boy   399.0  "
      ]
     },
     "execution_count": 538,
     "metadata": {},
     "output_type": "execute_result"
    }
   ],
   "source": [
    "combined_df.head(3)"
   ]
  },
  {
   "cell_type": "markdown",
   "metadata": {},
   "source": [
    "##### Composition column cleaning"
   ]
  },
  {
   "cell_type": "code",
   "execution_count": 539,
   "metadata": {},
   "outputs": [
    {
     "data": {
      "text/plain": [
       "417"
      ]
     },
     "execution_count": 539,
     "metadata": {},
     "output_type": "execute_result"
    }
   ],
   "source": [
    "combined_df[\"Composition\"].nunique()"
   ]
  },
  {
   "cell_type": "code",
   "execution_count": 540,
   "metadata": {},
   "outputs": [],
   "source": [
    "import numpy as np\n",
    "import pandas as pd\n",
    "import ast\n",
    "\n",
    "# Ensure NaNs are properly handled before processing\n",
    "combined_df[\"Composition\"] = combined_df[\"Composition\"].fillna(\"[]\")  \n",
    "\n",
    "# Function to safely evaluate string lists\n",
    "def safe_eval(x):\n",
    "    if isinstance(x, str):  \n",
    "        try:\n",
    "            return ast.literal_eval(x)  # Convert to list\n",
    "        except:\n",
    "            return []  # If parsing fails, return empty list\n",
    "    elif isinstance(x, list):\n",
    "        return x  # Keep lists as they are\n",
    "    else:\n",
    "        return []  # Convert NaNs to empty list\n",
    "\n",
    "combined_df[\"Composition\"] = combined_df[\"Composition\"].apply(safe_eval)\n",
    "\n",
    "# Initialize set to store all unique material names\n",
    "all_materials = set()\n",
    "\n",
    "# Extract unique materials from all rows\n",
    "for materials in combined_df[\"Composition\"]:\n",
    "    for item in materials:\n",
    "        try:\n",
    "            percentage, material = item.split(\"% \")\n",
    "            all_materials.add(material.strip())  # Collect unique materials\n",
    "        except ValueError:\n",
    "            continue  # Skip incorrectly formatted items\n",
    "\n",
    "# Convert set to sorted list, keeps order consistent\n",
    "all_materials = sorted(all_materials)\n",
    "\n",
    "# Dictionary to store processed data\n",
    "material_dict = {mat: [] for mat in all_materials}\n",
    "\n",
    "# Process each row and ensure all materials exist\n",
    "for materials in combined_df[\"Composition\"]:\n",
    "    row_materials = {mat: 0.0 for mat in all_materials}  # Initialize all with 0.0\n",
    "\n",
    "    for item in materials:\n",
    "        try:\n",
    "            percentage, material = item.split(\"% \")\n",
    "            row_materials[material.strip()] = float(percentage)  # Assign actual percentage\n",
    "        except ValueError:\n",
    "            continue  # Skip invalid formats\n",
    "\n",
    "    # Append values to corresponding lists in material_dict\n",
    "    for mat in all_materials:\n",
    "        material_dict[mat].append(row_materials[mat])\n",
    "\n",
    "# Convert dictionary to DataFrame\n",
    "material_df = pd.DataFrame(material_dict)\n",
    "\n",
    "# Merge with original DataFrame\n",
    "combined_df = combined_df.reset_index(drop=True)\n",
    "material_df = material_df.reset_index(drop=True)\n",
    "\n",
    "combined_df = pd.concat([combined_df, material_df], axis=1)\n"
   ]
  },
  {
   "cell_type": "code",
   "execution_count": 541,
   "metadata": {},
   "outputs": [
    {
     "data": {
      "text/plain": [
       "(3054, 25)"
      ]
     },
     "execution_count": 541,
     "metadata": {},
     "output_type": "execute_result"
    }
   ],
   "source": [
    "material_df.shape"
   ]
  },
  {
   "cell_type": "code",
   "execution_count": 542,
   "metadata": {},
   "outputs": [
    {
     "name": "stdout",
     "output_type": "stream",
     "text": [
      "(3054, 32)\n"
     ]
    }
   ],
   "source": [
    "print(combined_df.shape)"
   ]
  },
  {
   "cell_type": "code",
   "execution_count": 543,
   "metadata": {},
   "outputs": [
    {
     "data": {
      "text/plain": [
       "Index(['Age Group', 'Garment Length', 'Presentation Product Type',\n",
       "       'Sleeve Length', 'Composition', 'category', 'price', '', 'Acrylic',\n",
       "       'Brass', 'Cotton', 'Elastane', 'Elastodiene', 'Elastomultiester',\n",
       "       'Linen', 'Lyocell', 'Modal', 'Mohair', 'Other', 'Polyamide',\n",
       "       'Polyester', 'Polystyrene', 'Polyurethane', 'Resin', 'Silk', 'Steel',\n",
       "       'Viscose', 'Wool', 'Zinc', 'copolyester', 'metallised', 'polymethyl'],\n",
       "      dtype='object')"
      ]
     },
     "execution_count": 543,
     "metadata": {},
     "output_type": "execute_result"
    }
   ],
   "source": [
    "combined_df.columns"
   ]
  },
  {
   "cell_type": "code",
   "execution_count": 544,
   "metadata": {},
   "outputs": [],
   "source": [
    "combined_df = combined_df.drop(columns=[''])"
   ]
  },
  {
   "cell_type": "code",
   "execution_count": 545,
   "metadata": {},
   "outputs": [
    {
     "data": {
      "text/plain": [
       "Index(['Age Group', 'Garment Length', 'Presentation Product Type',\n",
       "       'Sleeve Length', 'Composition', 'category', 'price', 'Acrylic', 'Brass',\n",
       "       'Cotton', 'Elastane', 'Elastodiene', 'Elastomultiester', 'Linen',\n",
       "       'Lyocell', 'Modal', 'Mohair', 'Other', 'Polyamide', 'Polyester',\n",
       "       'Polystyrene', 'Polyurethane', 'Resin', 'Silk', 'Steel', 'Viscose',\n",
       "       'Wool', 'Zinc', 'copolyester', 'metallised', 'polymethyl'],\n",
       "      dtype='object')"
      ]
     },
     "execution_count": 545,
     "metadata": {},
     "output_type": "execute_result"
    }
   ],
   "source": [
    "combined_df.columns"
   ]
  },
  {
   "cell_type": "code",
   "execution_count": 546,
   "metadata": {},
   "outputs": [
    {
     "data": {
      "text/plain": [
       "Age Group                     105\n",
       "Garment Length                505\n",
       "Presentation Product Type       1\n",
       "Sleeve Length                1527\n",
       "Composition                     0\n",
       "category                        0\n",
       "price                           0\n",
       "Acrylic                         0\n",
       "Brass                           0\n",
       "Cotton                          0\n",
       "Elastane                        0\n",
       "Elastodiene                     0\n",
       "Elastomultiester                0\n",
       "Linen                           0\n",
       "Lyocell                         0\n",
       "Modal                           0\n",
       "Mohair                          0\n",
       "Other                           0\n",
       "Polyamide                       0\n",
       "Polyester                       0\n",
       "Polystyrene                     0\n",
       "Polyurethane                    0\n",
       "Resin                           0\n",
       "Silk                            0\n",
       "Steel                           0\n",
       "Viscose                         0\n",
       "Wool                            0\n",
       "Zinc                            0\n",
       "copolyester                     0\n",
       "metallised                      0\n",
       "polymethyl                      0\n",
       "dtype: int64"
      ]
     },
     "execution_count": 546,
     "metadata": {},
     "output_type": "execute_result"
    }
   ],
   "source": [
    "combined_df.isnull().sum()"
   ]
  },
  {
   "cell_type": "code",
   "execution_count": 547,
   "metadata": {},
   "outputs": [
    {
     "data": {
      "text/plain": [
       "0      0.0\n",
       "1    100.0\n",
       "2    100.0\n",
       "3     99.0\n",
       "4    100.0\n",
       "Name: Cotton, dtype: float64"
      ]
     },
     "execution_count": 547,
     "metadata": {},
     "output_type": "execute_result"
    }
   ],
   "source": [
    "combined_df[\"Cotton\"].head()"
   ]
  },
  {
   "cell_type": "code",
   "execution_count": 548,
   "metadata": {},
   "outputs": [
    {
     "data": {
      "text/plain": [
       "0    17.0\n",
       "1     0.0\n",
       "2     0.0\n",
       "3     0.0\n",
       "4     0.0\n",
       "Name: Elastane, dtype: float64"
      ]
     },
     "execution_count": 548,
     "metadata": {},
     "output_type": "execute_result"
    }
   ],
   "source": [
    "combined_df[\"Elastane\"].head()"
   ]
  },
  {
   "cell_type": "code",
   "execution_count": 549,
   "metadata": {},
   "outputs": [],
   "source": [
    "combined_df.drop(columns=[\"Composition\"], inplace=True)"
   ]
  },
  {
   "cell_type": "code",
   "execution_count": 550,
   "metadata": {},
   "outputs": [],
   "source": [
    "# Moving target to the end\n",
    "price = combined_df.pop(\"price\")\n",
    "combined_df[\"price\"] = price"
   ]
  },
  {
   "cell_type": "code",
   "execution_count": 551,
   "metadata": {},
   "outputs": [
    {
     "data": {
      "text/html": [
       "<div>\n",
       "<style scoped>\n",
       "    .dataframe tbody tr th:only-of-type {\n",
       "        vertical-align: middle;\n",
       "    }\n",
       "\n",
       "    .dataframe tbody tr th {\n",
       "        vertical-align: top;\n",
       "    }\n",
       "\n",
       "    .dataframe thead th {\n",
       "        text-align: right;\n",
       "    }\n",
       "</style>\n",
       "<table border=\"1\" class=\"dataframe\">\n",
       "  <thead>\n",
       "    <tr style=\"text-align: right;\">\n",
       "      <th></th>\n",
       "      <th>Age Group</th>\n",
       "      <th>Garment Length</th>\n",
       "      <th>Presentation Product Type</th>\n",
       "      <th>Sleeve Length</th>\n",
       "      <th>category</th>\n",
       "      <th>Acrylic</th>\n",
       "      <th>Brass</th>\n",
       "      <th>Cotton</th>\n",
       "      <th>Elastane</th>\n",
       "      <th>Elastodiene</th>\n",
       "      <th>...</th>\n",
       "      <th>Resin</th>\n",
       "      <th>Silk</th>\n",
       "      <th>Steel</th>\n",
       "      <th>Viscose</th>\n",
       "      <th>Wool</th>\n",
       "      <th>Zinc</th>\n",
       "      <th>copolyester</th>\n",
       "      <th>metallised</th>\n",
       "      <th>polymethyl</th>\n",
       "      <th>price</th>\n",
       "    </tr>\n",
       "  </thead>\n",
       "  <tbody>\n",
       "    <tr>\n",
       "      <th>0</th>\n",
       "      <td>Baby</td>\n",
       "      <td>Short</td>\n",
       "      <td>Swimsuit</td>\n",
       "      <td>Long sleeve</td>\n",
       "      <td>Boy</td>\n",
       "      <td>0.0</td>\n",
       "      <td>0.0</td>\n",
       "      <td>0.0</td>\n",
       "      <td>17.0</td>\n",
       "      <td>0.0</td>\n",
       "      <td>...</td>\n",
       "      <td>0.0</td>\n",
       "      <td>0.0</td>\n",
       "      <td>0.0</td>\n",
       "      <td>0.0</td>\n",
       "      <td>0.0</td>\n",
       "      <td>0.0</td>\n",
       "      <td>0.0</td>\n",
       "      <td>0.0</td>\n",
       "      <td>0.0</td>\n",
       "      <td>1999.0</td>\n",
       "    </tr>\n",
       "    <tr>\n",
       "      <th>1</th>\n",
       "      <td>Baby</td>\n",
       "      <td>Regular length</td>\n",
       "      <td>T-shirt</td>\n",
       "      <td>Short sleeve</td>\n",
       "      <td>Boy</td>\n",
       "      <td>0.0</td>\n",
       "      <td>0.0</td>\n",
       "      <td>100.0</td>\n",
       "      <td>0.0</td>\n",
       "      <td>0.0</td>\n",
       "      <td>...</td>\n",
       "      <td>0.0</td>\n",
       "      <td>0.0</td>\n",
       "      <td>0.0</td>\n",
       "      <td>0.0</td>\n",
       "      <td>0.0</td>\n",
       "      <td>0.0</td>\n",
       "      <td>0.0</td>\n",
       "      <td>0.0</td>\n",
       "      <td>0.0</td>\n",
       "      <td>449.0</td>\n",
       "    </tr>\n",
       "    <tr>\n",
       "      <th>2</th>\n",
       "      <td>Baby</td>\n",
       "      <td>NaN</td>\n",
       "      <td>Bodysuit</td>\n",
       "      <td>Long sleeve</td>\n",
       "      <td>Boy</td>\n",
       "      <td>0.0</td>\n",
       "      <td>0.0</td>\n",
       "      <td>100.0</td>\n",
       "      <td>0.0</td>\n",
       "      <td>0.0</td>\n",
       "      <td>...</td>\n",
       "      <td>0.0</td>\n",
       "      <td>0.0</td>\n",
       "      <td>0.0</td>\n",
       "      <td>0.0</td>\n",
       "      <td>0.0</td>\n",
       "      <td>0.0</td>\n",
       "      <td>0.0</td>\n",
       "      <td>0.0</td>\n",
       "      <td>0.0</td>\n",
       "      <td>399.0</td>\n",
       "    </tr>\n",
       "    <tr>\n",
       "      <th>3</th>\n",
       "      <td>Baby</td>\n",
       "      <td>Short</td>\n",
       "      <td>Shorts</td>\n",
       "      <td>NaN</td>\n",
       "      <td>Boy</td>\n",
       "      <td>0.0</td>\n",
       "      <td>0.0</td>\n",
       "      <td>99.0</td>\n",
       "      <td>0.0</td>\n",
       "      <td>0.0</td>\n",
       "      <td>...</td>\n",
       "      <td>0.0</td>\n",
       "      <td>0.0</td>\n",
       "      <td>0.0</td>\n",
       "      <td>1.0</td>\n",
       "      <td>0.0</td>\n",
       "      <td>0.0</td>\n",
       "      <td>0.0</td>\n",
       "      <td>0.0</td>\n",
       "      <td>0.0</td>\n",
       "      <td>649.0</td>\n",
       "    </tr>\n",
       "    <tr>\n",
       "      <th>4</th>\n",
       "      <td>Baby</td>\n",
       "      <td>Regular length, Short</td>\n",
       "      <td>T-shirt, Shorts</td>\n",
       "      <td>Short sleeve</td>\n",
       "      <td>Boy</td>\n",
       "      <td>0.0</td>\n",
       "      <td>0.0</td>\n",
       "      <td>100.0</td>\n",
       "      <td>0.0</td>\n",
       "      <td>0.0</td>\n",
       "      <td>...</td>\n",
       "      <td>0.0</td>\n",
       "      <td>0.0</td>\n",
       "      <td>0.0</td>\n",
       "      <td>0.0</td>\n",
       "      <td>0.0</td>\n",
       "      <td>0.0</td>\n",
       "      <td>0.0</td>\n",
       "      <td>0.0</td>\n",
       "      <td>0.0</td>\n",
       "      <td>899.0</td>\n",
       "    </tr>\n",
       "  </tbody>\n",
       "</table>\n",
       "<p>5 rows × 30 columns</p>\n",
       "</div>"
      ],
      "text/plain": [
       "  Age Group         Garment Length Presentation Product Type Sleeve Length  \\\n",
       "0      Baby                  Short                  Swimsuit   Long sleeve   \n",
       "1      Baby         Regular length                   T-shirt  Short sleeve   \n",
       "2      Baby                    NaN                  Bodysuit   Long sleeve   \n",
       "3      Baby                  Short                    Shorts           NaN   \n",
       "4      Baby  Regular length, Short           T-shirt, Shorts  Short sleeve   \n",
       "\n",
       "  category  Acrylic  Brass  Cotton  Elastane  Elastodiene  ...  Resin  Silk  \\\n",
       "0      Boy      0.0    0.0     0.0      17.0          0.0  ...    0.0   0.0   \n",
       "1      Boy      0.0    0.0   100.0       0.0          0.0  ...    0.0   0.0   \n",
       "2      Boy      0.0    0.0   100.0       0.0          0.0  ...    0.0   0.0   \n",
       "3      Boy      0.0    0.0    99.0       0.0          0.0  ...    0.0   0.0   \n",
       "4      Boy      0.0    0.0   100.0       0.0          0.0  ...    0.0   0.0   \n",
       "\n",
       "   Steel  Viscose  Wool  Zinc  copolyester  metallised  polymethyl   price  \n",
       "0    0.0      0.0   0.0   0.0          0.0         0.0         0.0  1999.0  \n",
       "1    0.0      0.0   0.0   0.0          0.0         0.0         0.0   449.0  \n",
       "2    0.0      0.0   0.0   0.0          0.0         0.0         0.0   399.0  \n",
       "3    0.0      1.0   0.0   0.0          0.0         0.0         0.0   649.0  \n",
       "4    0.0      0.0   0.0   0.0          0.0         0.0         0.0   899.0  \n",
       "\n",
       "[5 rows x 30 columns]"
      ]
     },
     "execution_count": 551,
     "metadata": {},
     "output_type": "execute_result"
    }
   ],
   "source": [
    "combined_df.head()"
   ]
  },
  {
   "cell_type": "markdown",
   "metadata": {},
   "source": [
    "##### Presentation Product Type column cleaning"
   ]
  },
  {
   "cell_type": "code",
   "execution_count": 552,
   "metadata": {},
   "outputs": [
    {
     "data": {
      "text/plain": [
       "102"
      ]
     },
     "execution_count": 552,
     "metadata": {},
     "output_type": "execute_result"
    }
   ],
   "source": [
    "combined_df[\"Presentation Product Type\"].nunique()"
   ]
  },
  {
   "cell_type": "code",
   "execution_count": 553,
   "metadata": {},
   "outputs": [
    {
     "data": {
      "text/plain": [
       "array(['Swimsuit', 'T-shirt', 'Bodysuit', 'Shorts', 'T-shirt, Shorts',\n",
       "       'Pyjamas', 'Trousers, Sweatshirt', 'Hat', 'Jeans',\n",
       "       'Pyjama jumpsuit', 'Trousers', 'Jacket', 'Leggings', 'Sweatshirt',\n",
       "       'Sweatshirt, Shorts', 'Sweatshirt, Trousers', 'Sleepsuit', 'Shirt',\n",
       "       'Bodysuit, Leggings', 'Shirt, Jeans', 'Shirt, Shorts',\n",
       "       'All in one suit', 'Blouse, Leggings',\n",
       "       'Sweatshirt, Trousers, Bodysuit', 'Swim shorts', 'Baby bib',\n",
       "       'Shorts, Top, Blouse, Leggings', 'Shorts, Top', 'Baby bodysuit',\n",
       "       'Top', 'Jumper, Leggings', 'Blouse, Leggings, Sweatshirt',\n",
       "       'Shirt, Trousers', 'Jumper, Trousers', 'Leggings, T-shirt',\n",
       "       'T-shirt, Trousers', 'Jumper', 'Jeans, T-shirt', 'Waist coat',\n",
       "       'Slippers', 'Blazer, Trousers', 'Top, Trousers',\n",
       "       'Bib-style neck warmer', 'Cardigan, Trousers', 'Top, Leggings',\n",
       "       'Leggings, Top', 'Sweatshirt, Jeans', 'Bodysuit, Trousers',\n",
       "       'Jacket, Trousers', 'Trousers, Shirt', 'Outdoor jacket', 'Dress',\n",
       "       'Blouse, Shorts', 'Sweatshirt, Leggings', 'Top, Shorts', nan,\n",
       "       'Bloomers', 'Dress, Shorts, Top', 'Blouse', 'Top, Dress', 'Skirt',\n",
       "       'Jacket, Sweatshirt', 'Blazer', 'Shorts, Sweatshirt', 'Gilet',\n",
       "       'Shorts, T-shirt', 'Swim top', 'Swim top, Swim shorts', 'Cardigan',\n",
       "       'Costume', 'Dressing gown', 'Shirt, Waist coat',\n",
       "       'Shirt, Trousers, Waist coat', 'T-shirt, Leggings',\n",
       "       'Waist coat, Skirt', 'Top, Skirt', 'Skirt, Sweatshirt',\n",
       "       'Trousers, T-shirt', 'Skirt, T-shirt', 'Pyjama bottoms',\n",
       "       'Sweatshirt, Skirt', 'Top, Cardigan', 'Coat', 'Night dress',\n",
       "       'Dress, Top', 'Leggings, Blouse', 'Cardigan, Skirt',\n",
       "       'Leggings, Sweatshirt', 'Skirt, Top', 'Knickers, Shorts, Top',\n",
       "       'Bra', 'Playsuit', 'Jacket, Top', 'Jumpsuit', 'Body',\n",
       "       'Baby bodysuit, Trousers', 'Trousers, Top',\n",
       "       'Blouse, Leggings, Bodysuit', 'Bodysuit, Array',\n",
       "       'Bodysuit, Blouse, Leggings', 'Dress, Tunic', 'Necklace',\n",
       "       'Jacket, Blazer'], dtype=object)"
      ]
     },
     "execution_count": 553,
     "metadata": {},
     "output_type": "execute_result"
    }
   ],
   "source": [
    "combined_df[\"Presentation Product Type\"].unique()"
   ]
  },
  {
   "cell_type": "code",
   "execution_count": 554,
   "metadata": {},
   "outputs": [
    {
     "data": {
      "text/plain": [
       "Presentation Product Type\n",
       "Trousers           379\n",
       "T-shirt            293\n",
       "Sweatshirt         192\n",
       "Bodysuit           178\n",
       "Top                168\n",
       "                  ... \n",
       "Skirt, Top           1\n",
       "Playsuit             1\n",
       "Bodysuit, Array      1\n",
       "Dress, Tunic         1\n",
       "Jacket, Blazer       1\n",
       "Name: count, Length: 102, dtype: int64"
      ]
     },
     "execution_count": 554,
     "metadata": {},
     "output_type": "execute_result"
    }
   ],
   "source": [
    "combined_df[\"Presentation Product Type\"].value_counts()"
   ]
  },
  {
   "cell_type": "code",
   "execution_count": 555,
   "metadata": {},
   "outputs": [],
   "source": [
    "combined_df = combined_df[~combined_df['Presentation Product Type'].str.contains(',', na=False)]"
   ]
  },
  {
   "cell_type": "code",
   "execution_count": 556,
   "metadata": {},
   "outputs": [
    {
     "data": {
      "text/plain": [
       "42"
      ]
     },
     "execution_count": 556,
     "metadata": {},
     "output_type": "execute_result"
    }
   ],
   "source": [
    "combined_df[\"Presentation Product Type\"].nunique()"
   ]
  },
  {
   "cell_type": "code",
   "execution_count": 557,
   "metadata": {},
   "outputs": [
    {
     "data": {
      "text/plain": [
       "Presentation Product Type\n",
       "Trousers                 379\n",
       "T-shirt                  293\n",
       "Sweatshirt               192\n",
       "Bodysuit                 178\n",
       "Top                      168\n",
       "Dress                    168\n",
       "Jeans                    130\n",
       "Pyjamas                  121\n",
       "Shirt                    118\n",
       "Sleepsuit                109\n",
       "Shorts                    97\n",
       "Leggings                  77\n",
       "Jacket                    76\n",
       "Skirt                     73\n",
       "Blouse                    63\n",
       "Hat                       31\n",
       "Jumper                    30\n",
       "Baby bodysuit             24\n",
       "Blazer                    22\n",
       "Cardigan                  20\n",
       "Dressing gown             20\n",
       "Swim shorts               19\n",
       "Bra                       19\n",
       "Swimsuit                  16\n",
       "Coat                      14\n",
       "Pyjama jumpsuit           12\n",
       "Baby bib                  12\n",
       "Waist coat                11\n",
       "Gilet                     11\n",
       "Necklace                  10\n",
       "All in one suit            7\n",
       "Slippers                   6\n",
       "Bloomers                   5\n",
       "Pyjama bottoms             5\n",
       "Costume                    4\n",
       "Jumpsuit                   3\n",
       "Body                       3\n",
       "Night dress                3\n",
       "Bib-style neck warmer      2\n",
       "Outdoor jacket             2\n",
       "Swim top                   2\n",
       "Playsuit                   1\n",
       "Name: count, dtype: int64"
      ]
     },
     "execution_count": 557,
     "metadata": {},
     "output_type": "execute_result"
    }
   ],
   "source": [
    "combined_df[\"Presentation Product Type\"].value_counts()"
   ]
  },
  {
   "cell_type": "code",
   "execution_count": 558,
   "metadata": {},
   "outputs": [
    {
     "data": {
      "text/plain": [
       "array(['Swimsuit', 'T-shirt', 'Bodysuit', 'Shorts', 'Pyjamas', 'Hat',\n",
       "       'Jeans', 'Pyjama jumpsuit', 'Trousers', 'Jacket', 'Leggings',\n",
       "       'Sweatshirt', 'Sleepsuit', 'Shirt', 'All in one suit',\n",
       "       'Swim shorts', 'Baby bib', 'Baby bodysuit', 'Top', 'Jumper',\n",
       "       'Waist coat', 'Slippers', 'Bib-style neck warmer',\n",
       "       'Outdoor jacket', 'Dress', nan, 'Bloomers', 'Blouse', 'Skirt',\n",
       "       'Blazer', 'Gilet', 'Swim top', 'Cardigan', 'Costume',\n",
       "       'Dressing gown', 'Pyjama bottoms', 'Coat', 'Night dress', 'Bra',\n",
       "       'Playsuit', 'Jumpsuit', 'Body', 'Necklace'], dtype=object)"
      ]
     },
     "execution_count": 558,
     "metadata": {},
     "output_type": "execute_result"
    }
   ],
   "source": [
    "combined_df[\"Presentation Product Type\"].unique()"
   ]
  },
  {
   "cell_type": "code",
   "execution_count": 559,
   "metadata": {},
   "outputs": [],
   "source": [
    "combined_df = combined_df[~combined_df['Presentation Product Type'].isin(['Hat', 'Slippers', 'Bib-style neck warmer', 'Necklace'])]"
   ]
  },
  {
   "cell_type": "code",
   "execution_count": 560,
   "metadata": {},
   "outputs": [
    {
     "data": {
      "text/plain": [
       "(2508, 30)"
      ]
     },
     "execution_count": 560,
     "metadata": {},
     "output_type": "execute_result"
    }
   ],
   "source": [
    "combined_df.shape"
   ]
  },
  {
   "cell_type": "code",
   "execution_count": 561,
   "metadata": {},
   "outputs": [
    {
     "data": {
      "text/html": [
       "<div>\n",
       "<style scoped>\n",
       "    .dataframe tbody tr th:only-of-type {\n",
       "        vertical-align: middle;\n",
       "    }\n",
       "\n",
       "    .dataframe tbody tr th {\n",
       "        vertical-align: top;\n",
       "    }\n",
       "\n",
       "    .dataframe thead th {\n",
       "        text-align: right;\n",
       "    }\n",
       "</style>\n",
       "<table border=\"1\" class=\"dataframe\">\n",
       "  <thead>\n",
       "    <tr style=\"text-align: right;\">\n",
       "      <th></th>\n",
       "      <th>Age Group</th>\n",
       "      <th>Garment Length</th>\n",
       "      <th>Presentation Product Type</th>\n",
       "      <th>Sleeve Length</th>\n",
       "      <th>category</th>\n",
       "      <th>Acrylic</th>\n",
       "      <th>Brass</th>\n",
       "      <th>Cotton</th>\n",
       "      <th>Elastane</th>\n",
       "      <th>Elastodiene</th>\n",
       "      <th>...</th>\n",
       "      <th>Resin</th>\n",
       "      <th>Silk</th>\n",
       "      <th>Steel</th>\n",
       "      <th>Viscose</th>\n",
       "      <th>Wool</th>\n",
       "      <th>Zinc</th>\n",
       "      <th>copolyester</th>\n",
       "      <th>metallised</th>\n",
       "      <th>polymethyl</th>\n",
       "      <th>price</th>\n",
       "    </tr>\n",
       "  </thead>\n",
       "  <tbody>\n",
       "    <tr>\n",
       "      <th>0</th>\n",
       "      <td>Baby</td>\n",
       "      <td>Short</td>\n",
       "      <td>Swimsuit</td>\n",
       "      <td>Long sleeve</td>\n",
       "      <td>Boy</td>\n",
       "      <td>0.0</td>\n",
       "      <td>0.0</td>\n",
       "      <td>0.0</td>\n",
       "      <td>17.0</td>\n",
       "      <td>0.0</td>\n",
       "      <td>...</td>\n",
       "      <td>0.0</td>\n",
       "      <td>0.0</td>\n",
       "      <td>0.0</td>\n",
       "      <td>0.0</td>\n",
       "      <td>0.0</td>\n",
       "      <td>0.0</td>\n",
       "      <td>0.0</td>\n",
       "      <td>0.0</td>\n",
       "      <td>0.0</td>\n",
       "      <td>1999.0</td>\n",
       "    </tr>\n",
       "    <tr>\n",
       "      <th>1</th>\n",
       "      <td>Baby</td>\n",
       "      <td>Regular length</td>\n",
       "      <td>T-shirt</td>\n",
       "      <td>Short sleeve</td>\n",
       "      <td>Boy</td>\n",
       "      <td>0.0</td>\n",
       "      <td>0.0</td>\n",
       "      <td>100.0</td>\n",
       "      <td>0.0</td>\n",
       "      <td>0.0</td>\n",
       "      <td>...</td>\n",
       "      <td>0.0</td>\n",
       "      <td>0.0</td>\n",
       "      <td>0.0</td>\n",
       "      <td>0.0</td>\n",
       "      <td>0.0</td>\n",
       "      <td>0.0</td>\n",
       "      <td>0.0</td>\n",
       "      <td>0.0</td>\n",
       "      <td>0.0</td>\n",
       "      <td>449.0</td>\n",
       "    </tr>\n",
       "    <tr>\n",
       "      <th>2</th>\n",
       "      <td>Baby</td>\n",
       "      <td>NaN</td>\n",
       "      <td>Bodysuit</td>\n",
       "      <td>Long sleeve</td>\n",
       "      <td>Boy</td>\n",
       "      <td>0.0</td>\n",
       "      <td>0.0</td>\n",
       "      <td>100.0</td>\n",
       "      <td>0.0</td>\n",
       "      <td>0.0</td>\n",
       "      <td>...</td>\n",
       "      <td>0.0</td>\n",
       "      <td>0.0</td>\n",
       "      <td>0.0</td>\n",
       "      <td>0.0</td>\n",
       "      <td>0.0</td>\n",
       "      <td>0.0</td>\n",
       "      <td>0.0</td>\n",
       "      <td>0.0</td>\n",
       "      <td>0.0</td>\n",
       "      <td>399.0</td>\n",
       "    </tr>\n",
       "    <tr>\n",
       "      <th>3</th>\n",
       "      <td>Baby</td>\n",
       "      <td>Short</td>\n",
       "      <td>Shorts</td>\n",
       "      <td>NaN</td>\n",
       "      <td>Boy</td>\n",
       "      <td>0.0</td>\n",
       "      <td>0.0</td>\n",
       "      <td>99.0</td>\n",
       "      <td>0.0</td>\n",
       "      <td>0.0</td>\n",
       "      <td>...</td>\n",
       "      <td>0.0</td>\n",
       "      <td>0.0</td>\n",
       "      <td>0.0</td>\n",
       "      <td>1.0</td>\n",
       "      <td>0.0</td>\n",
       "      <td>0.0</td>\n",
       "      <td>0.0</td>\n",
       "      <td>0.0</td>\n",
       "      <td>0.0</td>\n",
       "      <td>649.0</td>\n",
       "    </tr>\n",
       "    <tr>\n",
       "      <th>5</th>\n",
       "      <td>Baby</td>\n",
       "      <td>Long</td>\n",
       "      <td>Pyjamas</td>\n",
       "      <td>Long sleeve</td>\n",
       "      <td>Boy</td>\n",
       "      <td>0.0</td>\n",
       "      <td>0.0</td>\n",
       "      <td>100.0</td>\n",
       "      <td>0.0</td>\n",
       "      <td>0.0</td>\n",
       "      <td>...</td>\n",
       "      <td>0.0</td>\n",
       "      <td>0.0</td>\n",
       "      <td>0.0</td>\n",
       "      <td>0.0</td>\n",
       "      <td>0.0</td>\n",
       "      <td>0.0</td>\n",
       "      <td>0.0</td>\n",
       "      <td>0.0</td>\n",
       "      <td>0.0</td>\n",
       "      <td>1099.0</td>\n",
       "    </tr>\n",
       "  </tbody>\n",
       "</table>\n",
       "<p>5 rows × 30 columns</p>\n",
       "</div>"
      ],
      "text/plain": [
       "  Age Group  Garment Length Presentation Product Type Sleeve Length category  \\\n",
       "0      Baby           Short                  Swimsuit   Long sleeve      Boy   \n",
       "1      Baby  Regular length                   T-shirt  Short sleeve      Boy   \n",
       "2      Baby             NaN                  Bodysuit   Long sleeve      Boy   \n",
       "3      Baby           Short                    Shorts           NaN      Boy   \n",
       "5      Baby            Long                   Pyjamas   Long sleeve      Boy   \n",
       "\n",
       "   Acrylic  Brass  Cotton  Elastane  Elastodiene  ...  Resin  Silk  Steel  \\\n",
       "0      0.0    0.0     0.0      17.0          0.0  ...    0.0   0.0    0.0   \n",
       "1      0.0    0.0   100.0       0.0          0.0  ...    0.0   0.0    0.0   \n",
       "2      0.0    0.0   100.0       0.0          0.0  ...    0.0   0.0    0.0   \n",
       "3      0.0    0.0    99.0       0.0          0.0  ...    0.0   0.0    0.0   \n",
       "5      0.0    0.0   100.0       0.0          0.0  ...    0.0   0.0    0.0   \n",
       "\n",
       "   Viscose  Wool  Zinc  copolyester  metallised  polymethyl   price  \n",
       "0      0.0   0.0   0.0          0.0         0.0         0.0  1999.0  \n",
       "1      0.0   0.0   0.0          0.0         0.0         0.0   449.0  \n",
       "2      0.0   0.0   0.0          0.0         0.0         0.0   399.0  \n",
       "3      1.0   0.0   0.0          0.0         0.0         0.0   649.0  \n",
       "5      0.0   0.0   0.0          0.0         0.0         0.0  1099.0  \n",
       "\n",
       "[5 rows x 30 columns]"
      ]
     },
     "execution_count": 561,
     "metadata": {},
     "output_type": "execute_result"
    }
   ],
   "source": [
    "combined_df.head()"
   ]
  },
  {
   "cell_type": "markdown",
   "metadata": {},
   "source": [
    "##### Garment Length column cleaning"
   ]
  },
  {
   "cell_type": "code",
   "execution_count": 562,
   "metadata": {},
   "outputs": [
    {
     "data": {
      "text/plain": [
       "array(['Short', 'Regular length', nan, 'Long', 'Regular length, Short',\n",
       "       'Knee length', 'Regular length, Long', 'Short, Regular length',\n",
       "       'Regular length, Knee length', 'Cropped, Long',\n",
       "       'Long, Regular length', 'Ankle length', 'Midi', '3/4 Length',\n",
       "       'Cropped', 'Maxi', 'Long, Short', 'Mini', 'Extra long legs'],\n",
       "      dtype=object)"
      ]
     },
     "execution_count": 562,
     "metadata": {},
     "output_type": "execute_result"
    }
   ],
   "source": [
    "combined_df[\"Garment Length\"].unique()"
   ]
  },
  {
   "cell_type": "code",
   "execution_count": 563,
   "metadata": {},
   "outputs": [
    {
     "data": {
      "text/plain": [
       "18"
      ]
     },
     "execution_count": 563,
     "metadata": {},
     "output_type": "execute_result"
    }
   ],
   "source": [
    "combined_df[\"Garment Length\"].nunique()"
   ]
  },
  {
   "cell_type": "code",
   "execution_count": 564,
   "metadata": {},
   "outputs": [
    {
     "data": {
      "text/plain": [
       "Garment Length\n",
       "Regular length                 800\n",
       "Long                           771\n",
       "Short                          243\n",
       "Knee length                    144\n",
       "Midi                            34\n",
       "Regular length, Long            19\n",
       "Ankle length                    19\n",
       "Cropped                         18\n",
       "Long, Regular length            12\n",
       "Mini                             9\n",
       "Short, Regular length            6\n",
       "3/4 Length                       5\n",
       "Extra long legs                  5\n",
       "Maxi                             5\n",
       "Cropped, Long                    4\n",
       "Regular length, Short            3\n",
       "Regular length, Knee length      2\n",
       "Long, Short                      2\n",
       "Name: count, dtype: int64"
      ]
     },
     "execution_count": 564,
     "metadata": {},
     "output_type": "execute_result"
    }
   ],
   "source": [
    "combined_df[\"Garment Length\"].value_counts()"
   ]
  },
  {
   "cell_type": "code",
   "execution_count": 565,
   "metadata": {},
   "outputs": [
    {
     "data": {
      "text/plain": [
       "Garment Length\n",
       "Short          42\n",
       "Knee length     9\n",
       "Midi            8\n",
       "Mini            8\n",
       "Long            4\n",
       "Maxi            2\n",
       "Name: count, dtype: int64"
      ]
     },
     "execution_count": 565,
     "metadata": {},
     "output_type": "execute_result"
    }
   ],
   "source": [
    "combined_df[combined_df[\"Presentation Product Type\"] == \"Skirt\"][\"Garment Length\"].value_counts()"
   ]
  },
  {
   "cell_type": "code",
   "execution_count": 566,
   "metadata": {},
   "outputs": [
    {
     "data": {
      "text/plain": [
       "Garment Length\n",
       "Long               360\n",
       "Ankle length        11\n",
       "Regular length       4\n",
       "3/4 Length           2\n",
       "Extra long legs      1\n",
       "Name: count, dtype: int64"
      ]
     },
     "execution_count": 566,
     "metadata": {},
     "output_type": "execute_result"
    }
   ],
   "source": [
    "combined_df[combined_df[\"Presentation Product Type\"] == \"Trousers\"][\"Garment Length\"].value_counts()"
   ]
  },
  {
   "cell_type": "code",
   "execution_count": 567,
   "metadata": {},
   "outputs": [
    {
     "data": {
      "text/plain": [
       "Garment Length\n",
       "Short          44\n",
       "Knee length    37\n",
       "Midi            1\n",
       "Name: count, dtype: int64"
      ]
     },
     "execution_count": 567,
     "metadata": {},
     "output_type": "execute_result"
    }
   ],
   "source": [
    "combined_df[combined_df[\"Presentation Product Type\"] == \"Shorts\"][\"Garment Length\"].value_counts()"
   ]
  },
  {
   "cell_type": "code",
   "execution_count": 568,
   "metadata": {},
   "outputs": [
    {
     "data": {
      "text/plain": [
       "Garment Length\n",
       "Long                           40\n",
       "Regular length, Long           19\n",
       "Long, Regular length           12\n",
       "Regular length                  6\n",
       "Short, Regular length           6\n",
       "Short                           4\n",
       "Regular length, Short           3\n",
       "Regular length, Knee length     2\n",
       "Long, Short                     2\n",
       "Name: count, dtype: int64"
      ]
     },
     "execution_count": 568,
     "metadata": {},
     "output_type": "execute_result"
    }
   ],
   "source": [
    "combined_df[combined_df[\"Presentation Product Type\"] == \"Pyjamas\"][\"Garment Length\"].value_counts()"
   ]
  },
  {
   "cell_type": "code",
   "execution_count": 569,
   "metadata": {},
   "outputs": [],
   "source": [
    "combined_df = combined_df[~combined_df['Garment Length'].str.contains(',', na=False)]"
   ]
  },
  {
   "cell_type": "code",
   "execution_count": 570,
   "metadata": {},
   "outputs": [
    {
     "data": {
      "text/plain": [
       "array(['Short', 'Regular length', nan, 'Long', 'Knee length',\n",
       "       'Ankle length', 'Midi', '3/4 Length', 'Cropped', 'Maxi', 'Mini',\n",
       "       'Extra long legs'], dtype=object)"
      ]
     },
     "execution_count": 570,
     "metadata": {},
     "output_type": "execute_result"
    }
   ],
   "source": [
    "combined_df[\"Garment Length\"].unique()"
   ]
  },
  {
   "cell_type": "code",
   "execution_count": 571,
   "metadata": {},
   "outputs": [],
   "source": [
    "combined_df[\"Garment Length\"] = combined_df[\"Garment Length\"].replace({\n",
    "    \"Cropped\": \"Short\",\n",
    "    \"Mini\": \"Short\",\n",
    "    \"Regular length\": \"Regular\",\n",
    "    \"Knee length\": \"Regular\",\n",
    "    \"Midi\": \"Regular\",\n",
    "    \"Ankle length\": \"Long\",\n",
    "    \"3/4 Length\": \"Long\",\n",
    "    \"Maxi\": \"Long\",\n",
    "    \"Extra long legs\": \"Long\"\n",
    "})"
   ]
  },
  {
   "cell_type": "code",
   "execution_count": 572,
   "metadata": {},
   "outputs": [
    {
     "data": {
      "text/plain": [
       "Garment Length\n",
       "Regular    978\n",
       "Long       805\n",
       "Short      270\n",
       "Name: count, dtype: int64"
      ]
     },
     "execution_count": 572,
     "metadata": {},
     "output_type": "execute_result"
    }
   ],
   "source": [
    "combined_df[\"Garment Length\"].value_counts()"
   ]
  },
  {
   "cell_type": "code",
   "execution_count": 573,
   "metadata": {},
   "outputs": [
    {
     "data": {
      "text/plain": [
       "(2460, 30)"
      ]
     },
     "execution_count": 573,
     "metadata": {},
     "output_type": "execute_result"
    }
   ],
   "source": [
    "combined_df.shape"
   ]
  },
  {
   "cell_type": "markdown",
   "metadata": {},
   "source": [
    "### Null Values Imputing"
   ]
  },
  {
   "cell_type": "code",
   "execution_count": 575,
   "metadata": {},
   "outputs": [
    {
     "data": {
      "text/plain": [
       "np.int64(77)"
      ]
     },
     "execution_count": 575,
     "metadata": {},
     "output_type": "execute_result"
    }
   ],
   "source": [
    "combined_df[\"Age Group\"].isnull().sum()"
   ]
  },
  {
   "cell_type": "code",
   "execution_count": 576,
   "metadata": {},
   "outputs": [],
   "source": [
    "# Drop rows with null values in Age Group column\n",
    "combined_df = combined_df.dropna(subset=['Age Group'])"
   ]
  },
  {
   "cell_type": "code",
   "execution_count": 577,
   "metadata": {},
   "outputs": [
    {
     "data": {
      "text/plain": [
       "np.int64(358)"
      ]
     },
     "execution_count": 577,
     "metadata": {},
     "output_type": "execute_result"
    }
   ],
   "source": [
    "combined_df[\"Garment Length\"].isnull().sum()"
   ]
  },
  {
   "cell_type": "code",
   "execution_count": 578,
   "metadata": {},
   "outputs": [
    {
     "data": {
      "text/plain": [
       "0    Regular\n",
       "Name: Garment Length, dtype: object"
      ]
     },
     "execution_count": 578,
     "metadata": {},
     "output_type": "execute_result"
    }
   ],
   "source": [
    "# Checking mode value for imputing\n",
    "combined_df['Garment Length'].mode()"
   ]
  },
  {
   "cell_type": "code",
   "execution_count": 579,
   "metadata": {},
   "outputs": [
    {
     "name": "stderr",
     "output_type": "stream",
     "text": [
      "C:\\Users\\Cyber\\AppData\\Local\\Temp\\ipykernel_7748\\3893198902.py:3: FutureWarning: A value is trying to be set on a copy of a DataFrame or Series through chained assignment using an inplace method.\n",
      "The behavior will change in pandas 3.0. This inplace method will never work because the intermediate object on which we are setting values always behaves as a copy.\n",
      "\n",
      "For example, when doing 'df[col].method(value, inplace=True)', try using 'df.method({col: value}, inplace=True)' or df[col] = df[col].method(value) instead, to perform the operation inplace on the original object.\n",
      "\n",
      "\n",
      "  combined_df['Garment Length'].fillna('Regular', inplace=True)\n"
     ]
    }
   ],
   "source": [
    "# Deciding on 'Garment Length'\n",
    "# Filling missing values in 'Garment Length' with 'Regular' (categorical approach)\n",
    "combined_df['Garment Length'].fillna('Regular', inplace=True)"
   ]
  },
  {
   "cell_type": "code",
   "execution_count": 580,
   "metadata": {},
   "outputs": [
    {
     "data": {
      "text/plain": [
       "np.int64(1206)"
      ]
     },
     "execution_count": 580,
     "metadata": {},
     "output_type": "execute_result"
    }
   ],
   "source": [
    "combined_df[\"Sleeve Length\"].isnull().sum()"
   ]
  },
  {
   "cell_type": "code",
   "execution_count": 581,
   "metadata": {},
   "outputs": [
    {
     "name": "stderr",
     "output_type": "stream",
     "text": [
      "C:\\Users\\Cyber\\AppData\\Local\\Temp\\ipykernel_7748\\2612151122.py:1: FutureWarning: A value is trying to be set on a copy of a DataFrame or Series through chained assignment using an inplace method.\n",
      "The behavior will change in pandas 3.0. This inplace method will never work because the intermediate object on which we are setting values always behaves as a copy.\n",
      "\n",
      "For example, when doing 'df[col].method(value, inplace=True)', try using 'df.method({col: value}, inplace=True)' or df[col] = df[col].method(value) instead, to perform the operation inplace on the original object.\n",
      "\n",
      "\n",
      "  combined_df['Sleeve Length'].fillna('No sleeve', inplace=True)\n"
     ]
    }
   ],
   "source": [
    "combined_df['Sleeve Length'].fillna('No sleeve', inplace=True)"
   ]
  },
  {
   "cell_type": "code",
   "execution_count": 582,
   "metadata": {},
   "outputs": [
    {
     "name": "stdout",
     "output_type": "stream",
     "text": [
      "Number of rows where all materials are 0: 584\n"
     ]
    }
   ],
   "source": [
    "# List of material columns\n",
    "material_cols = ['Acrylic', 'Brass', 'Cotton', 'Elastane', 'Elastodiene',\n",
    "       'Elastomultiester', 'Linen', 'Lyocell', 'Modal', 'Mohair', 'Other',\n",
    "       'Polyamide', 'Polyester', 'Polystyrene', 'Polyurethane', 'Resin',\n",
    "       'Silk', 'Steel', 'Viscose', 'Wool', 'Zinc', 'copolyester', 'metallised',\n",
    "       'polymethyl']\n",
    "\n",
    "# Count rows where all materials are 0 (NaN in original column)\n",
    "zero_material_rows = (combined_df[material_cols] == 0).all(axis=1).sum()\n",
    "\n",
    "print(\"Number of rows where all materials are 0:\", zero_material_rows)\n"
   ]
  },
  {
   "cell_type": "code",
   "execution_count": 583,
   "metadata": {},
   "outputs": [],
   "source": [
    "# Drop rows where all material percentages are 0\n",
    "combined_df = combined_df[~(combined_df[material_cols] == 0).all(axis=1)]"
   ]
  },
  {
   "cell_type": "code",
   "execution_count": null,
   "metadata": {},
   "outputs": [
    {
     "name": "stdout",
     "output_type": "stream",
     "text": [
      "['Brass', 'Resin', 'Steel', 'Zinc', 'polymethyl']\n"
     ]
    }
   ],
   "source": [
    "# Check zero columns\n",
    "zero_cols = (combined_df.select_dtypes(include='number') == 0).all()\n",
    "\n",
    "print(zero_cols[zero_cols].index.tolist())  # List of columns that are all zeros"
   ]
  },
  {
   "cell_type": "code",
   "execution_count": 587,
   "metadata": {},
   "outputs": [],
   "source": [
    "combined_df = combined_df.drop(columns=zero_cols[lambda x: x].index)"
   ]
  },
  {
   "cell_type": "code",
   "execution_count": 588,
   "metadata": {},
   "outputs": [
    {
     "data": {
      "text/plain": [
       "(1799, 25)"
      ]
     },
     "execution_count": 588,
     "metadata": {},
     "output_type": "execute_result"
    }
   ],
   "source": [
    "combined_df.shape"
   ]
  },
  {
   "cell_type": "code",
   "execution_count": 589,
   "metadata": {},
   "outputs": [
    {
     "name": "stdout",
     "output_type": "stream",
     "text": [
      "Age Group                    0\n",
      "Garment Length               0\n",
      "Presentation Product Type    0\n",
      "Sleeve Length                0\n",
      "category                     0\n",
      "Acrylic                      0\n",
      "Cotton                       0\n",
      "Elastane                     0\n",
      "Elastodiene                  0\n",
      "Elastomultiester             0\n",
      "Linen                        0\n",
      "Lyocell                      0\n",
      "Modal                        0\n",
      "Mohair                       0\n",
      "Other                        0\n",
      "Polyamide                    0\n",
      "Polyester                    0\n",
      "Polystyrene                  0\n",
      "Polyurethane                 0\n",
      "Silk                         0\n",
      "Viscose                      0\n",
      "Wool                         0\n",
      "copolyester                  0\n",
      "metallised                   0\n",
      "price                        0\n",
      "dtype: int64\n"
     ]
    }
   ],
   "source": [
    "# Ensuring no missing values remain\n",
    "\n",
    "print(combined_df.isnull().sum())"
   ]
  },
  {
   "cell_type": "code",
   "execution_count": 590,
   "metadata": {},
   "outputs": [
    {
     "data": {
      "text/plain": [
       "np.int64(98)"
      ]
     },
     "execution_count": 590,
     "metadata": {},
     "output_type": "execute_result"
    }
   ],
   "source": [
    "combined_df.duplicated().sum()"
   ]
  },
  {
   "cell_type": "code",
   "execution_count": 591,
   "metadata": {},
   "outputs": [],
   "source": [
    "combined_df.drop_duplicates(inplace=True)"
   ]
  },
  {
   "cell_type": "code",
   "execution_count": 592,
   "metadata": {},
   "outputs": [
    {
     "data": {
      "text/plain": [
       "np.int64(0)"
      ]
     },
     "execution_count": 592,
     "metadata": {},
     "output_type": "execute_result"
    }
   ],
   "source": [
    "combined_df.duplicated().sum()"
   ]
  },
  {
   "cell_type": "markdown",
   "metadata": {},
   "source": [
    "### Outliers Handling"
   ]
  },
  {
   "cell_type": "code",
   "execution_count": 593,
   "metadata": {},
   "outputs": [],
   "source": [
    "Q1 = combined_df[\"price\"].quantile(0.25)\n",
    "Q3 = combined_df[\"price\"].quantile(0.75)\n",
    "IQR = Q3 - Q1\n",
    "\n",
    "lower_bound = Q1 - 1.5 * IQR\n",
    "upper_bound = Q3 + 1.5 * IQR\n",
    "\n",
    "combined_df = combined_df[(combined_df[\"price\"] >= lower_bound) & (combined_df[\"price\"] <= upper_bound)]"
   ]
  },
  {
   "cell_type": "code",
   "execution_count": 594,
   "metadata": {},
   "outputs": [
    {
     "data": {
      "text/plain": [
       "(1632, 25)"
      ]
     },
     "execution_count": 594,
     "metadata": {},
     "output_type": "execute_result"
    }
   ],
   "source": [
    "combined_df.shape"
   ]
  },
  {
   "cell_type": "code",
   "execution_count": 595,
   "metadata": {},
   "outputs": [
    {
     "name": "stdout",
     "output_type": "stream",
     "text": [
      "['Mohair']\n"
     ]
    }
   ],
   "source": [
    "# Double check zero columns after removing outliers\n",
    "zero_cols = (combined_df.select_dtypes(include='number') == 0).all()\n",
    "\n",
    "print(zero_cols[zero_cols].index.tolist())  # List of columns that are all zeros"
   ]
  },
  {
   "cell_type": "code",
   "execution_count": 596,
   "metadata": {},
   "outputs": [],
   "source": [
    "combined_df = combined_df.drop(columns=zero_cols[lambda x: x].index)"
   ]
  },
  {
   "cell_type": "code",
   "execution_count": 597,
   "metadata": {},
   "outputs": [
    {
     "name": "stdout",
     "output_type": "stream",
     "text": [
      "<class 'pandas.core.frame.DataFrame'>\n",
      "Index: 1632 entries, 0 to 3052\n",
      "Data columns (total 24 columns):\n",
      " #   Column                     Non-Null Count  Dtype  \n",
      "---  ------                     --------------  -----  \n",
      " 0   Age Group                  1632 non-null   object \n",
      " 1   Garment Length             1632 non-null   object \n",
      " 2   Presentation Product Type  1632 non-null   object \n",
      " 3   Sleeve Length              1632 non-null   object \n",
      " 4   category                   1632 non-null   object \n",
      " 5   Acrylic                    1632 non-null   float64\n",
      " 6   Cotton                     1632 non-null   float64\n",
      " 7   Elastane                   1632 non-null   float64\n",
      " 8   Elastodiene                1632 non-null   float64\n",
      " 9   Elastomultiester           1632 non-null   float64\n",
      " 10  Linen                      1632 non-null   float64\n",
      " 11  Lyocell                    1632 non-null   float64\n",
      " 12  Modal                      1632 non-null   float64\n",
      " 13  Other                      1632 non-null   float64\n",
      " 14  Polyamide                  1632 non-null   float64\n",
      " 15  Polyester                  1632 non-null   float64\n",
      " 16  Polystyrene                1632 non-null   float64\n",
      " 17  Polyurethane               1632 non-null   float64\n",
      " 18  Silk                       1632 non-null   float64\n",
      " 19  Viscose                    1632 non-null   float64\n",
      " 20  Wool                       1632 non-null   float64\n",
      " 21  copolyester                1632 non-null   float64\n",
      " 22  metallised                 1632 non-null   float64\n",
      " 23  price                      1632 non-null   float64\n",
      "dtypes: float64(19), object(5)\n",
      "memory usage: 318.8+ KB\n"
     ]
    }
   ],
   "source": [
    "combined_df.info()"
   ]
  },
  {
   "cell_type": "code",
   "execution_count": 598,
   "metadata": {},
   "outputs": [],
   "source": [
    "combined_df.to_csv(\"Preprocessed_Data.csv\", index=False)"
   ]
  }
 ],
 "metadata": {
  "kernelspec": {
   "display_name": "Python 3",
   "language": "python",
   "name": "python3"
  },
  "language_info": {
   "codemirror_mode": {
    "name": "ipython",
    "version": 3
   },
   "file_extension": ".py",
   "mimetype": "text/x-python",
   "name": "python",
   "nbconvert_exporter": "python",
   "pygments_lexer": "ipython3",
   "version": "3.13.1"
  }
 },
 "nbformat": 4,
 "nbformat_minor": 2
}
