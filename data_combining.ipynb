{
 "cells": [
  {
   "cell_type": "markdown",
   "metadata": {},
   "source": [
    "### Data Combining"
   ]
  },
  {
   "cell_type": "code",
   "execution_count": null,
   "metadata": {},
   "outputs": [],
   "source": [
    "import pandas as pd\n",
    "import os\n",
    "\n",
    "folder_path = r\"Add folder path that contains csv files\"\n",
    "\n",
    "#find all csv files in the path\n",
    "csv_files = [file for file in os.listdir(folder_path) if file.endswith('.csv')]\n",
    "\n",
    "#convert csv files to data frames\n",
    "df_list = [pd.read_csv(os.path.join(folder_path, file)) for file in csv_files]\n",
    "\n",
    "#Combine all data in one frame\n",
    "combined_df = pd.concat(df_list, ignore_index=True)\n",
    "\n",
    "#Save as new csv file\n",
    "combined_df.to_csv(\"Combined_Data.csv\", index=False)\n",
    "\n",
    "print(\"All CSV files have been combined successfully!\")"
   ]
  }
 ],
 "metadata": {
  "language_info": {
   "name": "python"
  }
 },
 "nbformat": 4,
 "nbformat_minor": 2
}
